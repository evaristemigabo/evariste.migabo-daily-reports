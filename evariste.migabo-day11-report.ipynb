{
 "cells": [
  {
   "cell_type": "markdown",
   "metadata": {
    "colab_type": "text",
    "id": "view-in-github"
   },
   "source": [
    "<a href=\"https://colab.research.google.com/github/ai-technipreneurs/python_course_colab_notebooks/blob/main/06_Lecture06.ipynb\" target=\"_parent\"><img src=\"https://colab.research.google.com/assets/colab-badge.svg\" alt=\"Open In Colab\"/></a>"
   ]
  },
  {
   "cell_type": "markdown",
   "metadata": {
    "id": "3AXjhXMgNYgT"
   },
   "source": [
    "<center>\n",
    "    <a href=\"https://aims-senegal.org/\" ><img src=\"images/logoaimssn.jpeg\" style=\"float:left; max-width: 650px; display: inline\" alt=\"AIMS-SN\"/> </a>\n",
    "    </center>\n",
    "\n",
    "\n",
    "\n",
    "<center>\n",
    "    \n",
    "<a href=\"https://acas-yde.org/\" ><img src=\"images/logo-ACAS.jpg\" style=\"float:right; max-width: 250px; display: inline\" alt=\"ACAS\"/></a>\n",
    "    \n",
    "</center>\n"
   ]
  },
  {
   "cell_type": "markdown",
   "metadata": {
    "id": "2Z--8-dNNYgX"
   },
   "source": [
    "****\n",
    "\n",
    "# <center> <b> <span style=\"color:orange;\"> Python Proficiency for Scientific Computing and Data Science (PyPro-SCiDaS)  </span> </b></center>\n",
    "\n",
    "### <center> <b> <span style=\"color:green;\">An Initiation to Programming using Python (Init2Py) </span> </b></center>\n",
    "    \n"
   ]
  },
  {
   "cell_type": "markdown",
   "metadata": {
    "id": "dTPcdOC5NYgY"
   },
   "source": [
    "****\n",
    "\n",
    "# <center> <b> <span style=\"color:blue;\"> Lecture 6: Numpy </span> </b></center>\n",
    "\n",
    "<!--NAVIGATION-->\n",
    "<  [5.Functions, Modules & PAckages](05.Lecture05.ipynb)| [ToC](Index.ipynb) | [7.Matplotlib](07.Lecture07.ipynb)>\n",
    "\n",
    "****"
   ]
  },
  {
   "cell_type": "markdown",
   "metadata": {
    "id": "oM9UA_EPNYgY"
   },
   "source": [
    "<img src=\" numpy.gif\" alt=\"Vlad's Home Directory\" />"
   ]
  },
  {
   "cell_type": "markdown",
   "metadata": {
    "id": "52jDNyGsNYga"
   },
   "source": [
    "[The NumPy Reference](https://docs.scipy.org/doc/numpy/reference/)."
   ]
  },
  {
   "cell_type": "markdown",
   "metadata": {
    "id": "7J5-CSxANYga"
   },
   "source": [
    "\n",
    "### <left> <b> <span style=\"color:brown;\"> Objective: </span> </b></left>\n",
    "\n",
    "This lecture aims to introduce the core concepts of `NumPy`, a fundamental library for numerical computing in Python. We will explore how to create and manipulate multidimensional arrays, perform vectorized operations, and efficiently handle large datasets. By understanding these tools, you'll gain the ability to perform high-performance numerical computations and build the foundation for scientific computing and data analysis using `NumPy`.\n",
    "****"
   ]
  },
  {
   "cell_type": "markdown",
   "metadata": {
    "id": "lHhSox1fNYga"
   },
   "source": [
    "## What is NumPy?\n",
    "\n",
    "\n",
    "> **NumPy (Numerical Python)** is the core library for scientific computing in Python, that provide high-performance vector, matrix, and higher-dimensional data structures for Python. It is implemented in ``C`` and ``Fortran``. so when calculations are vectorized (formulated with vectors and matrices), the performance is very good. It provides a high-performance multidimensional array object, and tools for working with these arrays.\n",
    "\n",
    "\n",
    "> This library can be used for different functions in **Linear algebra, Matrix computations, Fourier Transforms**. Alongside Numpy is most suitable for performing basic numerical computations such as *mean, median, range*, etc.\n",
    "\n",
    "> It is an open source module of Python which provides fast mathematical computation on arrays and matrices. Since, arrays and matrices are an essential part of the Machine Learning ecosystem.\n",
    "\n",
    "> ``Machine learning`` uses vectors, and in that regard, Numpy can be used in all common classes of problem in Machine Learning. Example: **Classification, Regressoin, Clustering** etc.\n",
    "\n",
    "\n",
    "\n",
    "<img src=\"object.png\" alt=\"Vlad's Home Directory\" />"
   ]
  },
  {
   "cell_type": "markdown",
   "metadata": {
    "id": "LAjVSYiaNYga"
   },
   "source": [
    "## NumPy arrays\n",
    "\n",
    "At the core of the NumPy package, is the ``ndarray`` object. This encapsulates n-dimensional arrays of homogeneous data types, with many operations being performed in compiled code for performance.\n",
    "\n",
    "  \n",
    "  \n",
    "  A numpy array is a grid of values, all of the same type, and is indexed by a tuple of nonnegative integers. The number of dimensions is the *rank* of the array; the *shape* of an array is a tuple of integers giving the size of the array along each dimension.\n",
    "  \n",
    "  \n",
    "  <img src=\" 1d_array.png\" alt=\"Vlad's Home Directory\" />\n",
    "  \n",
    "Data manipulation in Python is nearly synonymous with NumPy array manipulation: even newer tools like Pandas are built around the NumPy array. This section will present several examples of using NumPy array manipulation to access data and subarrays, and to split, reshape, and join the arrays.   "
   ]
  },
  {
   "cell_type": "markdown",
   "metadata": {
    "id": "frS7l99KNYgc"
   },
   "source": [
    "\n",
    "There are a number of ways to initialize new numpy arrays, for example from\n",
    "\n",
    "* a Python list or tuples;\n",
    "* using functions that are dedicated to generating numpy arrays, such as arange, linspace, etc.;\n",
    "* reading data from files."
   ]
  },
  {
   "cell_type": "markdown",
   "metadata": {
    "id": "1ChUih_gNYgd"
   },
   "source": [
    "### To use numpy you need to import the module\n",
    "\n",
    "**Import conventions** : The recommended convention to import numpy is:"
   ]
  },
  {
   "cell_type": "code",
   "execution_count": null,
   "metadata": {
    "id": "owA8V6UmNYgd"
   },
   "outputs": [],
   "source": [
    "import numpy as np"
   ]
  },
  {
   "cell_type": "markdown",
   "metadata": {
    "id": "JjjM6JElNYge"
   },
   "source": [
    "### From lists\n",
    "For example, to create new vector and matrix arrays from Python lists we can use the ``np.array`` function."
   ]
  },
  {
   "cell_type": "code",
   "execution_count": 38,
   "metadata": {
    "id": "aCN3bS2LNYge"
   },
   "outputs": [
    {
     "name": "stdout",
     "output_type": "stream",
     "text": [
      "[1 2 3 4]\n"
     ]
    }
   ],
   "source": [
    "# a vector: the argument to the array function is a Python list\n",
    "v = np.array([1,2,3,4])\n",
    "print(v)"
   ]
  },
  {
   "cell_type": "code",
   "execution_count": 40,
   "metadata": {
    "id": "M4ZB2fdaNYgf"
   },
   "outputs": [
    {
     "name": "stdout",
     "output_type": "stream",
     "text": [
      "<class 'numpy.ndarray'>\n",
      "(3,)\n",
      "1 2 3\n",
      "[5 2 3]\n"
     ]
    }
   ],
   "source": [
    "a = np.array([1, 2, 3])   # Create a rank 1 array\n",
    "print(type(a))            # Prints \"<class 'numpy.ndarray'>\"\n",
    "print(a.shape)            # Prints \"(3,)\"\n",
    "print(a[0], a[1], a[2])   # Prints \"1 2 3\"\n",
    "a[0] = 5                  # Change an element of the array\n",
    "print(a)                  # Prints \"[5, 2, 3]\""
   ]
  },
  {
   "cell_type": "code",
   "execution_count": 42,
   "metadata": {
    "id": "OhlK79DPNYgf"
   },
   "outputs": [
    {
     "name": "stdout",
     "output_type": "stream",
     "text": [
      "[[1 2 3]\n",
      " [4 5 6]\n",
      " [7 8 9]]\n",
      "(3, 3)\n",
      "[[1 2 3]\n",
      " [4 5 6]]\n",
      "(2, 3)\n",
      "1 2 4\n",
      "5\n"
     ]
    }
   ],
   "source": [
    "b = np.array([[1,2,3],[4,5,6]]) \n",
    "c =  np.array([[1,2,3],[4,5,6],[7,8,9]]) \n",
    "print(c)\n",
    "print(c.shape)\n",
    "print(b) # Create a rank 2 array\n",
    "print(b.shape)                     # Prints \"(2, 3)\"\n",
    "print(b[0, 0], b[0, 1], b[1, 0])   # Prints \"1 2 4\"\n",
    "print(b[1, 1])"
   ]
  },
  {
   "cell_type": "markdown",
   "metadata": {
    "id": "wQacYRXiNYgf"
   },
   "source": [
    "### Numpy also provides many functions to create arrays:"
   ]
  },
  {
   "cell_type": "code",
   "execution_count": 44,
   "metadata": {
    "id": "SKklcTG-NYgf"
   },
   "outputs": [
    {
     "name": "stdout",
     "output_type": "stream",
     "text": [
      "-----------------------------------------------------------------------\n",
      "Evenly spaced: \n",
      "\n",
      "[0 1 2 3 4 5 6 7 8 9]\n",
      "\n",
      "\n",
      "[1 3 5 7]\n",
      "=========================================================================\n",
      "Spaced by number of points: \n",
      "\n",
      "[0.    0.125 0.25  0.375 0.5   0.625 0.75  0.875 1.   ]\n",
      "\n",
      "\n",
      "[0.  0.2 0.4 0.6 0.8]\n",
      "=========================================================================\n",
      "Common arrays: \n",
      "\n",
      "[[0. 0.]\n",
      " [0. 0.]]\n",
      "\n",
      "\n",
      "[[1. 1.]]\n",
      "\n",
      "\n",
      "[[8 8]\n",
      " [8 8]]\n",
      "\n",
      "\n",
      "[[1. 0.]\n",
      " [0. 1.]]\n",
      "\n",
      "\n",
      "E= [[0.61426177 0.75767068]\n",
      " [0.03291436 0.85242577]]\n"
     ]
    }
   ],
   "source": [
    "import numpy as np\n",
    "\n",
    "\n",
    "print(\"-----------------------------------------------------------------------\")\n",
    "\n",
    "print(\"Evenly spaced: \\n\")\n",
    "\n",
    "a1 = np.arange(10) # 0 .. n-1  (!). Evenly spaced.\n",
    "print(a1)\n",
    "\n",
    "print(\"\\n\")\n",
    "\n",
    "b1 = np.arange(1, 9, 2) # start, end (exclusive), step.\n",
    "print(b1)\n",
    "\n",
    "\n",
    "print(\"=========================================================================\")\n",
    "\n",
    "print(\"Spaced by number of points: \\n\")\n",
    "\n",
    "\n",
    "c1 = np.linspace(0, 1, 9)   # start, end, num-points\n",
    "print(c1)\n",
    "\n",
    "\n",
    "print(\"\\n\")\n",
    "\n",
    "d1 = np.linspace(0, 1, 5, endpoint=False)\n",
    "print(d1)\n",
    "\n",
    "\n",
    "\n",
    "print(\"=========================================================================\")\n",
    "print(\"Common arrays: \\n\")\n",
    "\n",
    "\n",
    "a = np.zeros((2,2))   # Create an array of all zeros\n",
    "print(a)              # Prints \"[[ 0.  0.]\n",
    "                      #          [ 0.  0.]]\"\n",
    "print(\"\\n\")\n",
    "\n",
    "b = np.ones((1,2))    # Create an array of all ones\n",
    "print(b)              # Prints \"[[ 1.  1.]]\"\n",
    "\n",
    "print(\"\\n\")\n",
    "\n",
    "c = np.full((2,2), 8)  # Create a constant array\n",
    "print(c)               # Prints \"[[ 7.  7.]\n",
    "                       #          [ 7.  7.]]\"\n",
    "print(\"\\n\")\n",
    "\n",
    "d = np.eye(2)         # Create a 2x2 identity matrix\n",
    "print(d)              # Prints \"[[ 1.  0.]\n",
    "                      #          [ 0.  1.]]\"\n",
    "print(\"\\n\")\n",
    "\n",
    "e = np.random.random((2,2))  # Create an array filled with random values\n",
    "print(\"E=\",e)                     # Might print \"[[ 0.91940167  0.08143941]\n",
    "                             #               [ 0.68744134  0.87236687]]\"\n",
    "\n",
    "\n",
    "\n"
   ]
  },
  {
   "cell_type": "markdown",
   "metadata": {
    "id": "xJIL3gTTNYgg"
   },
   "source": [
    "You can read about other methods of array creation [in the documentation](https://docs.scipy.org/doc/numpy/user/basics.creation.html#arrays-creation)."
   ]
  },
  {
   "cell_type": "markdown",
   "metadata": {
    "id": "7xQbdEi-NYgg"
   },
   "source": [
    "* * * *\n",
    "Exercise: **Creating arrays using functions**\n",
    "\n",
    "> Experiment with arange, linspace, ones, zeros, eye and diag.\n",
    "    Create different kinds of arrays with random numbers.\n",
    "    Try setting the seed before creating an array with random values.\n",
    "    Look at the function np.empty. What does it do? When might this be useful?\n",
    "\n",
    "* * * *"
   ]
  },
  {
   "cell_type": "markdown",
   "metadata": {
    "id": "lGe3GYTRNYgg"
   },
   "source": [
    "### NumPy Array Attributes\n",
    "\n",
    "Each array has attributes ``ndim`` (the number of dimensions), ``shape`` (the size of each dimension), and ``size`` (the total size of the array):"
   ]
  },
  {
   "cell_type": "code",
   "execution_count": 46,
   "metadata": {
    "id": "msQc0rx0NYgg"
   },
   "outputs": [],
   "source": [
    "import numpy as np\n",
    "np.random.seed(0)  # seed for reproducibility\n",
    "\n",
    "x1 = np.random.randint(10, size=6)  # One-dimensional array\n",
    "x2 = np.random.randint(10, size=(3, 4))  # Two-dimensional array\n",
    "x3 = np.random.randint(10, size=(3, 4, 5))  # Three-dimensional array\n"
   ]
  },
  {
   "cell_type": "code",
   "execution_count": 48,
   "metadata": {
    "id": "W8EV8uyXNYgh"
   },
   "outputs": [
    {
     "name": "stdout",
     "output_type": "stream",
     "text": [
      "x3 ndim:  3\n",
      "x3 shape: (3, 4, 5)\n",
      "x3 size:  60\n"
     ]
    }
   ],
   "source": [
    "print(\"x3 ndim: \", x3.ndim)\n",
    "print(\"x3 shape:\", x3.shape)\n",
    "print(\"x3 size: \", x3.size)"
   ]
  },
  {
   "cell_type": "markdown",
   "metadata": {
    "id": "VQObFuSmNYgh"
   },
   "source": [
    "### Basic data types\n",
    "\n",
    "Different data-types allow us to store data more compactly in memory, but most of the time we simply work with floating point numbers. Note that, in the example above, NumPy auto-detects the data-type from the input."
   ]
  },
  {
   "cell_type": "code",
   "execution_count": 50,
   "metadata": {
    "id": "3gKaLn8ANYgh"
   },
   "outputs": [
    {
     "name": "stdout",
     "output_type": "stream",
     "text": [
      "int32\n",
      "float64\n"
     ]
    }
   ],
   "source": [
    "a = np.array([1, 2, 3])\n",
    "print(a.dtype)\n",
    "\n",
    "\n",
    "b = np.array([1., 2., 3.])\n",
    "print(b.dtype)\n"
   ]
  },
  {
   "cell_type": "code",
   "execution_count": null,
   "metadata": {
    "id": "4trQmT-NNYgh"
   },
   "outputs": [],
   "source": [
    "You can explicitly specify which data-type you want:"
   ]
  },
  {
   "cell_type": "code",
   "execution_count": 52,
   "metadata": {
    "id": "EDUAU9fENYgi"
   },
   "outputs": [
    {
     "name": "stdout",
     "output_type": "stream",
     "text": [
      "float16\n"
     ]
    }
   ],
   "source": [
    "c = np.array([1, 2, 3], dtype=np.float16)\n",
    "print(c.dtype)"
   ]
  },
  {
   "cell_type": "markdown",
   "metadata": {
    "id": "ol1kftmJNYgi"
   },
   "source": [
    "Every numpy array is a grid of elements of the same type. Numpy provides a large set of numeric datatypes that you can use to construct arrays. Numpy tries to guess a datatype when you create an array, but functions that construct arrays usually also include an optional argument to explicitly specify the datatype. Here is a more example:"
   ]
  },
  {
   "cell_type": "code",
   "execution_count": 54,
   "metadata": {
    "id": "FjVFoIbvNYgi"
   },
   "outputs": [
    {
     "name": "stdout",
     "output_type": "stream",
     "text": [
      "int32\n",
      "float64\n",
      "int64\n"
     ]
    }
   ],
   "source": [
    "import numpy as np\n",
    "\n",
    "x = np.array([1, 2])   # Let numpy choose the datatype\n",
    "print(x.dtype)         # Prints \"int64\"\n",
    "\n",
    "x = np.array([1.0, 2.0])   # Let numpy choose the datatype\n",
    "print(x.dtype)             # Prints \"float64\"\n",
    "\n",
    "x = np.array([1, 2], dtype=np.int64)   # Force a particular datatype\n",
    "print(x.dtype)                         # Prints \"int64\"\n"
   ]
  },
  {
   "cell_type": "markdown",
   "metadata": {
    "id": "QLkoXC_mNYgi"
   },
   "source": [
    "You can read all about numpy datatypes [in the documentation](https://docs.scipy.org/doc/numpy/reference/arrays.dtypes.html)."
   ]
  },
  {
   "cell_type": "code",
   "execution_count": null,
   "metadata": {
    "id": "wLUhcq4iNYgi"
   },
   "outputs": [],
   "source": []
  },
  {
   "cell_type": "code",
   "execution_count": null,
   "metadata": {
    "id": "8-7UskJbNYgi"
   },
   "outputs": [],
   "source": []
  },
  {
   "cell_type": "markdown",
   "metadata": {
    "id": "pnbYwFlHNYgj"
   },
   "source": [
    "### **What is the default data type ?**"
   ]
  },
  {
   "cell_type": "markdown",
   "metadata": {
    "id": "2JYwLzh3NYgj"
   },
   "source": [
    "There are also other types:\n",
    "    \n",
    " <img src=\"types.png\" alt=\"Vlad's Home Directory\" />\n",
    "    "
   ]
  },
  {
   "cell_type": "markdown",
   "metadata": {
    "id": "_neFjZHHNYgj"
   },
   "source": [
    "## Array Indexing: Accessing Elements/Subarrays\n",
    "\n",
    "\n",
    "Numpy offers several ways to index into arrays.\n",
    "\n",
    "**Slicing**: Similar to Python lists, numpy arrays can be sliced. Since arrays may be multidimensional, you must specify a slice for each dimension of the array:\n",
    "\n"
   ]
  },
  {
   "cell_type": "code",
   "execution_count": 56,
   "metadata": {
    "id": "lxVFzkCqNYgj"
   },
   "outputs": [
    {
     "name": "stdout",
     "output_type": "stream",
     "text": [
      "[[ 1  2  3  4]\n",
      " [ 5  6  7  8]\n",
      " [ 9 10 11 12]]\n",
      "--------------------------------------------------------------------------\n",
      "[[2 3]\n",
      " [6 7]]\n",
      "--------------------------------------------------------------------------\n",
      "2\n",
      "--------------------------------------------------------------------------\n",
      "77\n"
     ]
    }
   ],
   "source": [
    "# Create the following rank 2 array with shape (3, 4)\n",
    "# [[ 1  2  3  4]\n",
    "#  [ 5  6  7  8]\n",
    "#  [ 9 10 11 12]]\n",
    "a = np.array([[1,2,3,4], [5,6,7,8], [9,10,11,12]])\n",
    "\n",
    "# Use slicing to pull out the subarray consisting of the first 2 rows\n",
    "# and columns 1 and 2; b is the following array of shape (2, 2):\n",
    "# [[2 3]\n",
    "#  [6 7]]\n",
    "b = a[:2, 1:3]\n",
    "\n",
    "print(a)\n",
    "\n",
    "print('--------------------------------------------------------------------------')\n",
    "\n",
    "print(b)\n",
    "\n",
    "print('--------------------------------------------------------------------------')\n",
    "\n",
    "\n",
    "# A slice of an array is a view into the same data, so modifying it\n",
    "# will modify the original array.\n",
    "print(a[0, 1])   # Prints \"2\"\n",
    "\n",
    "print('--------------------------------------------------------------------------')\n",
    "\n",
    "b[0, 0] = 77     # b[0, 0] is the same piece of data as a[0, 1]\n",
    "print(a[0, 1])   # Prints \"77\""
   ]
  },
  {
   "cell_type": "markdown",
   "metadata": {
    "id": "b50M6muqNYgj"
   },
   "source": [
    "You can also mix integer indexing with slice indexing. However, doing so will yield an array of lower rank than the original array."
   ]
  },
  {
   "cell_type": "code",
   "execution_count": 58,
   "metadata": {
    "id": "56NLvuhENYgj"
   },
   "outputs": [
    {
     "name": "stdout",
     "output_type": "stream",
     "text": [
      "[5 6 7 8] (4,)\n",
      "--------------------------------------------------------------------------\n",
      "[[5 6 7 8]] (1, 4)\n",
      "[ 2  6 10] (3,)\n",
      "--------------------------------------------------------------------------\n",
      "[[ 2]\n",
      " [ 6]\n",
      " [10]] (3, 1)\n"
     ]
    }
   ],
   "source": [
    "import numpy as np\n",
    "\n",
    "# Create the following rank 2 array with shape (3, 4)\n",
    "# [[ 1  2  3  4]\n",
    "#  [ 5  6  7  8]\n",
    "#  [ 9 10 11 12]]\n",
    "a = np.array([[1,2,3,4], [5,6,7,8], [9,10,11,12]])\n",
    "\n",
    "# Two ways of accessing the data in the middle row of the array.\n",
    "# Mixing integer indexing with slices yields an array of lower rank,\n",
    "# while using only slices yields an array of the same rank as the\n",
    "# original array:\n",
    "row_r1 = a[1, :]    # Rank 1 view of the second row of a\n",
    "row_r2 = a[1:2, :]  # Rank 2 view of the second row of a\n",
    "print(row_r1, row_r1.shape)  # Prints \"[5 6 7 8] (4,)\"\n",
    "\n",
    "print('--------------------------------------------------------------------------')\n",
    "\n",
    "\n",
    "print(row_r2, row_r2.shape)  # Prints \"[[5 6 7 8]] (1, 4)\"\n",
    "\n",
    "# We can make the same distinction when accessing columns of an array:\n",
    "col_r1 = a[:, 1]\n",
    "col_r2 = a[:, 1:2]\n",
    "print(col_r1, col_r1.shape)  # Prints \"[ 2  6 10] (3,)\"\n",
    "\n",
    "print('--------------------------------------------------------------------------')\n",
    "\n",
    "print(col_r2, col_r2.shape)  # Prints \"[[ 2]\n",
    "                             #          [ 6]\n",
    "                             #          [10]] (3, 1)\"\n"
   ]
  },
  {
   "cell_type": "markdown",
   "metadata": {
    "id": "DtQUOfDoNYgj"
   },
   "source": [
    "### Reshaping of Arrays\n",
    "\n",
    "Another useful type of operation is reshaping of arrays. The most flexible way of doing this is with the ``reshape`` method. For example, if you want to put the numbers 1 through 9 in a $3 \\times 3$ grid, you can do the following:"
   ]
  },
  {
   "cell_type": "code",
   "execution_count": 60,
   "metadata": {
    "id": "9WQVALjpNYgj"
   },
   "outputs": [
    {
     "name": "stdout",
     "output_type": "stream",
     "text": [
      "[[1 2 3]\n",
      " [4 5 6]\n",
      " [7 8 9]]\n"
     ]
    }
   ],
   "source": [
    "grid = np.arange(1, 10).reshape((3, 3))\n",
    "print(grid)"
   ]
  },
  {
   "cell_type": "markdown",
   "metadata": {
    "id": "941tPkseNYgj"
   },
   "source": [
    "Note that for this to work, the size of the initial array must match the size of the reshaped array. Tyr a few examples that you will create."
   ]
  },
  {
   "cell_type": "markdown",
   "metadata": {
    "id": "mTyXrj4sNYgl"
   },
   "source": [
    "### Fancy indexing\n",
    "\n",
    "Fancy indexing is the name for when an array or a list is used in-place of an index:"
   ]
  },
  {
   "cell_type": "code",
   "execution_count": 62,
   "metadata": {
    "id": "dodtVk82NYgl"
   },
   "outputs": [
    {
     "data": {
      "text/plain": [
       "array([[ 0,  1,  2,  3,  4],\n",
       "       [ 5,  6,  7,  8,  9],\n",
       "       [10, 11, 12, 13, 14],\n",
       "       [15, 16, 17, 18, 19]])"
      ]
     },
     "execution_count": 62,
     "metadata": {},
     "output_type": "execute_result"
    }
   ],
   "source": [
    "twenty = (np.arange(4 * 5)).reshape(4, 5)\n",
    "twenty"
   ]
  },
  {
   "cell_type": "code",
   "execution_count": 64,
   "metadata": {
    "id": "HBGJuEdjNYgl"
   },
   "outputs": [
    {
     "data": {
      "text/plain": [
       "array([[ 5,  6,  7,  8,  9],\n",
       "       [10, 11, 12, 13, 14],\n",
       "       [15, 16, 17, 18, 19]])"
      ]
     },
     "execution_count": 64,
     "metadata": {},
     "output_type": "execute_result"
    }
   ],
   "source": [
    "row_indices = [1, 2, 3]\n",
    "twenty[row_indices]\n"
   ]
  },
  {
   "cell_type": "code",
   "execution_count": 66,
   "metadata": {
    "id": "8yXK5nykNYgl"
   },
   "outputs": [
    {
     "data": {
      "text/plain": [
       "array([ 6, 12, 19])"
      ]
     },
     "execution_count": 66,
     "metadata": {},
     "output_type": "execute_result"
    }
   ],
   "source": [
    "col_indices = [1, 2, -1] # remember, index -1 means the last element\n",
    "twenty[row_indices, col_indices]"
   ]
  },
  {
   "cell_type": "markdown",
   "metadata": {
    "id": "UcIE0HVGNYgl"
   },
   "source": [
    "\n",
    "\n",
    "We can also use index **masks**:\n",
    "\n",
    "    If the index mask is a NumPy array of data type bool, then an element is selected (True) or not (False) depending on the value of the index mask at the position of each element\n",
    "\n"
   ]
  },
  {
   "cell_type": "code",
   "execution_count": 68,
   "metadata": {
    "id": "d0192icJNYgl"
   },
   "outputs": [
    {
     "data": {
      "text/plain": [
       "array([15, 20,  3, 12,  4, 20,  8, 14, 15, 20])"
      ]
     },
     "execution_count": 68,
     "metadata": {},
     "output_type": "execute_result"
    }
   ],
   "source": [
    "# 1D array of random integers\n",
    "# get 10 integers from 0 to 23\n",
    "\n",
    "num_samples = 10\n",
    "integers = np.random.randint(23, size=num_samples)\n",
    "integers"
   ]
  },
  {
   "cell_type": "code",
   "execution_count": 70,
   "metadata": {
    "id": "gRUFpTDjNYgl"
   },
   "outputs": [
    {
     "data": {
      "text/plain": [
       "array([15,  3,  4,  8, 15])"
      ]
     },
     "execution_count": 70,
     "metadata": {},
     "output_type": "execute_result"
    }
   ],
   "source": [
    "# mask has to be of the same shape as the array to be indexed; else IndexError would be thrown\n",
    "# mask for indexing alternate elements in the array\n",
    "row_mask = np.array([True, False, True, False, True, False, True, False, True, False])\n",
    "\n",
    "integers[row_mask]"
   ]
  },
  {
   "cell_type": "markdown",
   "metadata": {
    "id": "xUrTIaKlNYgl"
   },
   "source": [
    "\n",
    "\n",
    "This feature is very useful to conditionally select elements from an array, using for example comparison operators:\n"
   ]
  },
  {
   "cell_type": "code",
   "execution_count": 72,
   "metadata": {
    "id": "StQoVdNNNYgm"
   },
   "outputs": [
    {
     "data": {
      "text/plain": [
       "array([0. , 0.5, 1. , 1.5, 2. , 2.5, 3. , 3.5, 4. , 4.5, 5. , 5.5, 6. ,\n",
       "       6.5, 7. , 7.5, 8. , 8.5, 9. , 9.5])"
      ]
     },
     "execution_count": 72,
     "metadata": {},
     "output_type": "execute_result"
    }
   ],
   "source": [
    "range_arr = np.arange(0, 10, 0.5)\n",
    "range_arr"
   ]
  },
  {
   "cell_type": "code",
   "execution_count": 74,
   "metadata": {
    "id": "EjASVD_zNYgm"
   },
   "outputs": [
    {
     "data": {
      "text/plain": [
       "array([False, False, False, False, False, False, False, False, False,\n",
       "       False, False,  True,  True,  True,  True, False, False, False,\n",
       "       False, False])"
      ]
     },
     "execution_count": 74,
     "metadata": {},
     "output_type": "execute_result"
    }
   ],
   "source": [
    "mask = (range_arr > 5) * (range_arr < 7.5)\n",
    "mask\n",
    "# What is happenning here?"
   ]
  },
  {
   "cell_type": "code",
   "execution_count": 76,
   "metadata": {
    "id": "JoPRfFytNYgm"
   },
   "outputs": [
    {
     "data": {
      "text/plain": [
       "array([5.5, 6. , 6.5, 7. ])"
      ]
     },
     "execution_count": 76,
     "metadata": {},
     "output_type": "execute_result"
    }
   ],
   "source": [
    "range_arr[mask]"
   ]
  },
  {
   "cell_type": "markdown",
   "metadata": {
    "id": "mSnbmFBLNYgm"
   },
   "source": [
    "* * * *\n",
    "### Exercise:\n",
    " > Investigate the **Concatenation, Splitting, Copies,repeat, tile, vstack, hstack**  functions for numpy arrays.\n",
    "\n",
    " > Investigate [Views versus copies in NumPy](https://scipy-cookbook.readthedocs.io/items/ViewsVsCopies.html)\n",
    "\n",
    "\n",
    "\n",
    "* * * *"
   ]
  },
  {
   "cell_type": "markdown",
   "metadata": {
    "id": "XR0xbq7wNYgm"
   },
   "source": [
    "## Array math\n",
    "\n",
    "Basic mathematical functions operate elementwise on arrays, and are available both as operator overloads and as functions in the numpy module:"
   ]
  },
  {
   "cell_type": "code",
   "execution_count": 78,
   "metadata": {
    "id": "y7E-HgHwNYgn"
   },
   "outputs": [
    {
     "name": "stdout",
     "output_type": "stream",
     "text": [
      "[[ 6.  8.]\n",
      " [10. 12.]]\n",
      "[[ 6.  8.]\n",
      " [10. 12.]]\n",
      "[[-4. -4.]\n",
      " [-4. -4.]]\n",
      "[[-4. -4.]\n",
      " [-4. -4.]]\n",
      "[[ 5. 12.]\n",
      " [21. 32.]]\n",
      "[[ 5. 12.]\n",
      " [21. 32.]]\n",
      "[[0.2        0.33333333]\n",
      " [0.42857143 0.5       ]]\n",
      "[[0.2        0.33333333]\n",
      " [0.42857143 0.5       ]]\n",
      "[[1.         1.41421356]\n",
      " [1.73205081 2.        ]]\n"
     ]
    }
   ],
   "source": [
    "import numpy as np\n",
    "\n",
    "x = np.array([[1,2],[3,4]], dtype=np.float64)\n",
    "y = np.array([[5,6],[7,8]], dtype=np.float64)\n",
    "\n",
    "# Elementwise sum; both produce the array\n",
    "# [[ 6.0  8.0]\n",
    "#  [10.0 12.0]]\n",
    "print(x + y)\n",
    "print(np.add(x, y))\n",
    "\n",
    "# Elementwise difference; both produce the array\n",
    "# [[-4.0 -4.0]\n",
    "#  [-4.0 -4.0]]\n",
    "print(x - y)\n",
    "print(np.subtract(x, y))\n",
    "\n",
    "# Elementwise product; both produce the array\n",
    "# [[ 5.0 12.0]\n",
    "#  [21.0 32.0]]\n",
    "print(x * y)\n",
    "print(np.multiply(x, y))\n",
    "\n",
    "# Elementwise division; both produce the array\n",
    "# [[ 0.2         0.33333333]\n",
    "#  [ 0.42857143  0.5       ]]\n",
    "print(x / y)\n",
    "print(np.divide(x, y))\n",
    "\n",
    "# Elementwise square root; produces the array\n",
    "# [[ 1.          1.41421356]\n",
    "#  [ 1.73205081  2.        ]]\n",
    "print(np.sqrt(x))\n"
   ]
  },
  {
   "cell_type": "markdown",
   "metadata": {
    "id": "OtPBCvarNYgn"
   },
   "source": [
    "We instead use the ``dot`` function to compute inner products of vectors, to multiply a vector by a matrix, and to multiply matrices. ``dot`` is available both as a function in the numpy module and as an instance method of array objects:"
   ]
  },
  {
   "cell_type": "code",
   "execution_count": 80,
   "metadata": {
    "id": "uM5_zG5SNYgn"
   },
   "outputs": [
    {
     "name": "stdout",
     "output_type": "stream",
     "text": [
      "219\n",
      "219\n",
      "[29 67]\n",
      "[29 67]\n",
      "[[19 22]\n",
      " [43 50]]\n",
      "[[19 22]\n",
      " [43 50]]\n"
     ]
    }
   ],
   "source": [
    "import numpy as np\n",
    "\n",
    "x = np.array([[1,2],[3,4]])\n",
    "y = np.array([[5,6],[7,8]])\n",
    "\n",
    "v = np.array([9,10])\n",
    "w = np.array([11, 12])\n",
    "\n",
    "# Inner product of vectors; both produce 219\n",
    "print(v.dot(w))\n",
    "print(np.dot(v, w))\n",
    "\n",
    "# Matrix / vector product; both produce the rank 1 array [29 67]\n",
    "print(x.dot(v))\n",
    "print(np.dot(x, v))\n",
    "\n",
    "# Matrix / matrix product; both produce the rank 2 array\n",
    "# [[19 22]\n",
    "#  [43 50]]\n",
    "print(x.dot(y))\n",
    "print(np.dot(x, y))\n"
   ]
  },
  {
   "cell_type": "markdown",
   "metadata": {
    "id": "8d2hnlVINYgn"
   },
   "source": [
    "Numpy provides many useful functions for performing computations on arrays; one of the most useful is ``sum``"
   ]
  },
  {
   "cell_type": "code",
   "execution_count": 82,
   "metadata": {
    "id": "xyvBLKTrNYgn"
   },
   "outputs": [
    {
     "name": "stdout",
     "output_type": "stream",
     "text": [
      "10\n",
      "[4 6]\n",
      "[3 7]\n"
     ]
    }
   ],
   "source": [
    "import numpy as np\n",
    "\n",
    "x = np.array([[1,2],[3,4]])\n",
    "\n",
    "print(np.sum(x))  # Compute sum of all elements; prints \"10\"\n",
    "print(np.sum(x, axis=0))  # Compute sum of each column; prints \"[4 6]\"\n",
    "print(np.sum(x, axis=1))  # Compute sum of each row; prints \"[3 7]\"\n"
   ]
  },
  {
   "cell_type": "markdown",
   "metadata": {
    "id": "H6CjgTu4NYgo"
   },
   "source": [
    "You can find the full list of mathematical functions provided by numpy [in the documentation](https://docs.scipy.org/doc/numpy/reference/routines.math.html)."
   ]
  },
  {
   "cell_type": "markdown",
   "metadata": {
    "id": "wNGVpekyNYgo"
   },
   "source": [
    "## Vectorizing functions\n",
    "\n",
    "As mentioned several times by now, to get good performance we should always try to avoid looping over elements in our vectors and matrices, and instead use vectorized algorithms. The first step in converting a scalar algorithm to a vectorized algorithm is to make sure that the functions we write work with vector inputs."
   ]
  },
  {
   "cell_type": "code",
   "execution_count": 84,
   "metadata": {
    "id": "jEqo0PuwNYgo"
   },
   "outputs": [],
   "source": [
    "def Theta(x):\n",
    "    \"\"\"\n",
    "    scalar implementation of the Heaviside step function.\n",
    "    \"\"\"\n",
    "    if x >= 0:\n",
    "        return 1\n",
    "    else:\n",
    "        return 0"
   ]
  },
  {
   "cell_type": "code",
   "execution_count": 86,
   "metadata": {
    "id": "0oiJ2G-LNYgo"
   },
   "outputs": [
    {
     "ename": "ValueError",
     "evalue": "The truth value of an array with more than one element is ambiguous. Use a.any() or a.all()",
     "output_type": "error",
     "traceback": [
      "\u001b[1;31m---------------------------------------------------------------------------\u001b[0m",
      "\u001b[1;31mValueError\u001b[0m                                Traceback (most recent call last)",
      "Cell \u001b[1;32mIn[86], line 2\u001b[0m\n\u001b[0;32m      1\u001b[0m v1 \u001b[38;5;241m=\u001b[39m np\u001b[38;5;241m.\u001b[39marray([\u001b[38;5;241m-\u001b[39m\u001b[38;5;241m3\u001b[39m,\u001b[38;5;241m-\u001b[39m\u001b[38;5;241m2\u001b[39m,\u001b[38;5;241m-\u001b[39m\u001b[38;5;241m1\u001b[39m,\u001b[38;5;241m0\u001b[39m,\u001b[38;5;241m1\u001b[39m,\u001b[38;5;241m2\u001b[39m,\u001b[38;5;241m3\u001b[39m])\n\u001b[1;32m----> 2\u001b[0m Theta(v1)\n",
      "Cell \u001b[1;32mIn[84], line 5\u001b[0m, in \u001b[0;36mTheta\u001b[1;34m(x)\u001b[0m\n\u001b[0;32m      1\u001b[0m \u001b[38;5;28;01mdef\u001b[39;00m \u001b[38;5;21mTheta\u001b[39m(x):\n\u001b[0;32m      2\u001b[0m \u001b[38;5;250m    \u001b[39m\u001b[38;5;124;03m\"\"\"\u001b[39;00m\n\u001b[0;32m      3\u001b[0m \u001b[38;5;124;03m    scalar implementation of the Heaviside step function.\u001b[39;00m\n\u001b[0;32m      4\u001b[0m \u001b[38;5;124;03m    \"\"\"\u001b[39;00m\n\u001b[1;32m----> 5\u001b[0m     \u001b[38;5;28;01mif\u001b[39;00m x \u001b[38;5;241m>\u001b[39m\u001b[38;5;241m=\u001b[39m \u001b[38;5;241m0\u001b[39m:\n\u001b[0;32m      6\u001b[0m         \u001b[38;5;28;01mreturn\u001b[39;00m \u001b[38;5;241m1\u001b[39m\n\u001b[0;32m      7\u001b[0m     \u001b[38;5;28;01melse\u001b[39;00m:\n",
      "\u001b[1;31mValueError\u001b[0m: The truth value of an array with more than one element is ambiguous. Use a.any() or a.all()"
     ]
    }
   ],
   "source": [
    "v1 = np.array([-3,-2,-1,0,1,2,3])\n",
    "Theta(v1)"
   ]
  },
  {
   "cell_type": "markdown",
   "metadata": {
    "id": "CnkqRNshNYgo"
   },
   "source": [
    "\n",
    "\n",
    "That didn't work because we didn't write the function Theta so that it can handle a vector input...\n",
    "\n",
    "To get a vectorized version of Theta we can use the Numpy function vectorize. In many cases it can automatically vectorize a function:\n"
   ]
  },
  {
   "cell_type": "code",
   "execution_count": 88,
   "metadata": {
    "id": "42iDk4xBNYgo"
   },
   "outputs": [
    {
     "data": {
      "text/plain": [
       "array([0, 0, 0, 1, 1, 1, 1])"
      ]
     },
     "execution_count": 88,
     "metadata": {},
     "output_type": "execute_result"
    }
   ],
   "source": [
    "Theta_vec = np.vectorize(Theta)\n",
    "Theta_vec(v1)"
   ]
  },
  {
   "cell_type": "markdown",
   "metadata": {
    "id": "t37CJwsQNYgp"
   },
   "source": [
    "On the Other Hand (OTHO), we can also implement the function to accept a vector input from the beginning (requires more effort but might give better performance):"
   ]
  },
  {
   "cell_type": "code",
   "execution_count": 90,
   "metadata": {
    "id": "b5bztASaNYgp"
   },
   "outputs": [],
   "source": [
    "def Theta(x):\n",
    "    \"\"\"\n",
    "    Vector-aware implementation of the Heaviside step function.\n",
    "    \"\"\"\n",
    "    return 1 * (x >= 0)"
   ]
  },
  {
   "cell_type": "code",
   "execution_count": 92,
   "metadata": {
    "id": "ETo-fbd8NYgp"
   },
   "outputs": [
    {
     "data": {
      "text/plain": [
       "array([0, 0, 0, 1, 1, 1, 1])"
      ]
     },
     "execution_count": 92,
     "metadata": {},
     "output_type": "execute_result"
    }
   ],
   "source": [
    "Theta(v1)"
   ]
  },
  {
   "cell_type": "code",
   "execution_count": 94,
   "metadata": {
    "id": "u72Vhr7DNYgp"
   },
   "outputs": [
    {
     "data": {
      "text/plain": [
       "(0, 1)"
      ]
     },
     "execution_count": 94,
     "metadata": {},
     "output_type": "execute_result"
    }
   ],
   "source": [
    "# it even works with scalar input\n",
    "Theta(-1.2), Theta(2.6)"
   ]
  },
  {
   "cell_type": "markdown",
   "metadata": {
    "id": "5-zfgWNQNYgp"
   },
   "source": [
    "Numpy provides many more functions for manipulating arrays; you can see the full list [in the documentation](https://docs.scipy.org/doc/numpy/reference/routines.array-manipulation.html)."
   ]
  },
  {
   "cell_type": "markdown",
   "metadata": {
    "id": "GWH_zS1xNYgq"
   },
   "source": [
    "## Broadcasting\n",
    "\n",
    "Broadcasting is a powerful mechanism that allows numpy to work with arrays of different shapes when performing arithmetic operations. Frequently we have a smaller array and a larger array, and we want to use the smaller array multiple times to perform some operation on the larger array."
   ]
  },
  {
   "cell_type": "markdown",
   "metadata": {
    "id": "mMToY6-3NYgq"
   },
   "source": [
    "<img src=\"broad.png\" alt=\"Vlad's Home Directory\" />"
   ]
  },
  {
   "cell_type": "markdown",
   "metadata": {
    "id": "OjRGcdU5NYgq"
   },
   "source": [
    "For example, suppose that we want to add a constant vector to each row of a matrix. We could do it like this:"
   ]
  },
  {
   "cell_type": "code",
   "execution_count": 96,
   "metadata": {
    "id": "MGGpU4z-NYgq"
   },
   "outputs": [
    {
     "name": "stdout",
     "output_type": "stream",
     "text": [
      "[[ 2  2  4]\n",
      " [ 5  5  7]\n",
      " [ 8  8 10]\n",
      " [11 11 13]]\n"
     ]
    }
   ],
   "source": [
    "import numpy as np\n",
    "\n",
    "# We will add the vector v to each row of the matrix x,\n",
    "# storing the result in the matrix y\n",
    "x = np.array([[1,2,3], [4,5,6], [7,8,9], [10, 11, 12]])\n",
    "v = np.array([1, 0, 1])\n",
    "y = np.empty_like(x)   # Create an empty matrix with the same shape as x\n",
    "\n",
    "# Add the vector v to each row of the matrix x with an explicit loop\n",
    "for i in range(4):\n",
    "    y[i, :] = x[i, :] + v\n",
    "\n",
    "# Now y is the following\n",
    "# [[ 2  2  4]\n",
    "#  [ 5  5  7]\n",
    "#  [ 8  8 10]\n",
    "#  [11 11 13]]\n",
    "print(y)\n"
   ]
  },
  {
   "cell_type": "markdown",
   "metadata": {
    "id": "qIaIPE1ENYgq"
   },
   "source": [
    "This works; however when the matrix ``x`` is very large, computing an explicit loop in Python could be slow. Note that adding the vector ``v ``to each row of the matrix ``x`` is equivalent to forming a matrix ``vv`` by stacking multiple copies of ``v`` vertically, then performing elementwise summation of ``x`` and ``vv``. We could implement this approach like this:"
   ]
  },
  {
   "cell_type": "code",
   "execution_count": 98,
   "metadata": {
    "id": "QWW8Il29NYgq"
   },
   "outputs": [
    {
     "name": "stdout",
     "output_type": "stream",
     "text": [
      "[[1 0 1]\n",
      " [1 0 1]\n",
      " [1 0 1]\n",
      " [1 0 1]]\n",
      "[[ 2  2  4]\n",
      " [ 5  5  7]\n",
      " [ 8  8 10]\n",
      " [11 11 13]]\n"
     ]
    }
   ],
   "source": [
    "import numpy as np\n",
    "\n",
    "# We will add the vector v to each row of the matrix x,\n",
    "# storing the result in the matrix y\n",
    "x = np.array([[1,2,3], [4,5,6], [7,8,9], [10, 11, 12]])\n",
    "v = np.array([1, 0, 1])\n",
    "vv = np.tile(v, (4, 1))   # Stack 4 copies of v on top of each other\n",
    "print(vv)                 # Prints \"[[1 0 1]\n",
    "                          #          [1 0 1]\n",
    "                          #          [1 0 1]\n",
    "                          #          [1 0 1]]\"\n",
    "y = x + vv  # Add x and vv elementwise\n",
    "print(y)  # Prints \"[[ 2  2  4\n",
    "          #          [ 5  5  7]\n",
    "          #          [ 8  8 10]\n",
    "          #          [11 11 13]]\"\n"
   ]
  },
  {
   "cell_type": "markdown",
   "metadata": {
    "id": "V8uytIJQNYgq"
   },
   "source": [
    "Numpy broadcasting allows us to perform this computation without actually creating multiple copies of v. Consider this version, using broadcasting:"
   ]
  },
  {
   "cell_type": "code",
   "execution_count": 100,
   "metadata": {
    "id": "8vczUeUKNYgq"
   },
   "outputs": [
    {
     "name": "stdout",
     "output_type": "stream",
     "text": [
      "[[ 2  2  4]\n",
      " [ 5  5  7]\n",
      " [ 8  8 10]\n",
      " [11 11 13]]\n"
     ]
    }
   ],
   "source": [
    "import numpy as np\n",
    "\n",
    "# We will add the vector v to each row of the matrix x,\n",
    "# storing the result in the matrix y\n",
    "x = np.array([[1,2,3], [4,5,6], [7,8,9], [10, 11, 12]])\n",
    "v = np.array([1, 0, 1])\n",
    "y = x + v  # Add v to each row of x using broadcasting\n",
    "print(y)  # Prints \"[[ 2  2  4]\n",
    "          #          [ 5  5  7]\n",
    "          #          [ 8  8 10]\n",
    "          #          [11 11 13]]\"\n"
   ]
  },
  {
   "cell_type": "markdown",
   "metadata": {
    "id": "zndotloLNYgq"
   },
   "source": [
    "The line ``y = x + v`` works even though ``x`` has shape **(4, 3)** and ``v`` has shape **(3,)** due to broadcasting; this line works as if ``v`` actually had shape **(4, 3)**, where each row was a copy of ``v``, and the sum was performed elementwise.\n",
    "\n",
    "* * * *\n",
    "\n",
    "Broadcasting two arrays together follows these rules:\n",
    "\n",
    "\n",
    "1. If the arrays do not have the same rank, prepend the shape of the lower rank array with 1s until both shapes have the same length.\n",
    "\n",
    "2. The two arrays are said to be compatible in a dimension if they have the same size in the dimension, or if one of the arrays has size 1 in that dimension.\n",
    "    \n",
    "3. The arrays can be broadcast together if they are compatible in all dimensions.\n",
    "    \n",
    "4. After broadcasting, each array behaves as if it had shape equal to the elementwise maximum of shapes of the two input arrays.\n",
    "    \n",
    "5. In any dimension where one array had size 1 and the other array had size greater than 1, the first array behaves as if it were copied along that dimension\n",
    "\n",
    "\n",
    "If this explanation does not make sense, try reading the explanation from the [documentation](https://docs.scipy.org/doc/numpy/user/basics.broadcasting.html)\n",
    "Functions that support broadcasting are known as universal functions. You can find the list of all universal functions [in the documentation](https://docs.scipy.org/doc/numpy/reference/ufuncs.html#available-ufuncs)."
   ]
  },
  {
   "cell_type": "code",
   "execution_count": null,
   "metadata": {
    "id": "cglapiU-NYgq"
   },
   "outputs": [],
   "source": [
    "Here are some applications of broadcasting:"
   ]
  },
  {
   "cell_type": "code",
   "execution_count": 102,
   "metadata": {
    "id": "txFiTQLENYgq"
   },
   "outputs": [
    {
     "name": "stdout",
     "output_type": "stream",
     "text": [
      "[[ 4  5]\n",
      " [ 8 10]\n",
      " [12 15]]\n",
      "[[2 4 6]\n",
      " [5 7 9]]\n",
      "[[ 5  6  7]\n",
      " [ 9 10 11]]\n",
      "[[ 5  6  7]\n",
      " [ 9 10 11]]\n",
      "[[ 2  4  6]\n",
      " [ 8 10 12]]\n"
     ]
    }
   ],
   "source": [
    "import numpy as np\n",
    "\n",
    "# Compute outer product of vectors\n",
    "v = np.array([1,2,3])  # v has shape (3,)\n",
    "w = np.array([4,5])    # w has shape (2,)\n",
    "# To compute an outer product, we first reshape v to be a column\n",
    "# vector of shape (3, 1); we can then broadcast it against w to yield\n",
    "# an output of shape (3, 2), which is the outer product of v and w:\n",
    "# [[ 4  5]\n",
    "#  [ 8 10]\n",
    "#  [12 15]]\n",
    "print(np.reshape(v, (3, 1)) * w)\n",
    "\n",
    "# Add a vector to each row of a matrix\n",
    "x = np.array([[1,2,3], [4,5,6]])\n",
    "# x has shape (2, 3) and v has shape (3,) so they broadcast to (2, 3),\n",
    "# giving the following matrix:\n",
    "# [[2 4 6]\n",
    "#  [5 7 9]]\n",
    "print(x + v)\n",
    "\n",
    "# Add a vector to each column of a matrix\n",
    "# x has shape (2, 3) and w has shape (2,).\n",
    "# If we transpose x then it has shape (3, 2) and can be broadcast\n",
    "# against w to yield a result of shape (3, 2); transposing this result\n",
    "# yields the final result of shape (2, 3) which is the matrix x with\n",
    "# the vector w added to each column. Gives the following matrix:\n",
    "# [[ 5  6  7]\n",
    "#  [ 9 10 11]]\n",
    "print((x.T + w).T)\n",
    "# Another solution is to reshape w to be a column vector of shape (2, 1);\n",
    "# we can then broadcast it directly against x to produce the same\n",
    "# output.\n",
    "print(x + np.reshape(w, (2, 1)))\n",
    "\n",
    "# Multiply a matrix by a constant:\n",
    "# x has shape (2, 3). Numpy treats scalars as arrays of shape ();\n",
    "# these can be broadcast together to shape (2, 3), producing the\n",
    "# following array:\n",
    "# [[ 2  4  6]\n",
    "#  [ 8 10 12]]\n",
    "print(x * 2)\n"
   ]
  },
  {
   "cell_type": "code",
   "execution_count": 110,
   "metadata": {},
   "outputs": [
    {
     "name": "stdin",
     "output_type": "stream",
     "text": [
      "Enter the first number 2\n",
      "Enter the second number 5\n"
     ]
    },
    {
     "name": "stdout",
     "output_type": "stream",
     "text": [
      "[[0, 0, 0, 0, 0], [0, 1, 2, 3, 4]]\n"
     ]
    }
   ],
   "source": [
    "#Challenge 2\n",
    "#Question 7\n",
    "# program that accepts two numbers, X and Y, as input and generates a 2-dimensional list. \n",
    "#such that The value at the i-th row and j-th column is the product of i and j.\n",
    "import numpy as np\n",
    "X = int(input(\"Enter the first number\"))\n",
    "Y = int(input(\"Enter the second number\"))\n",
    "u_list = [[i * j for j in range(Y)] for i in range(X)]\n",
    "# Printing the resulting list\n",
    "print(u_list)\n",
    "\n",
    "  "
   ]
  },
  {
   "cell_type": "code",
   "execution_count": 112,
   "metadata": {},
   "outputs": [
    {
     "name": "stdin",
     "output_type": "stream",
     "text": [
      "Enter a series of comma-separated numbers:  1,2,3,4,5,6,7,8,9,10\n"
     ]
    },
    {
     "name": "stdout",
     "output_type": "stream",
     "text": [
      "['1', '2', '3', '4', '5', '6', '7', '8', '9', '10']\n",
      "('1', '2', '3', '4', '5', '6', '7', '8', '9', '10')\n"
     ]
    }
   ],
   "source": [
    "#Task 4\n",
    "#program that reads a series of comma-separated numbers from the console, \n",
    "#then generates and prints both a list and a tuple containing those numbers. \n",
    "# Read the input from the console\n",
    "input_numbers = input(\"Enter a series of comma-separated numbers: \")\n",
    "numbers_list = input_numbers.split(',')\n",
    "numbers_tuple = tuple(numbers_list)\n",
    "\n",
    "# Printin the list and tuple\n",
    "print(numbers_list)\n",
    "print(numbers_tuple)\n"
   ]
  },
  {
   "cell_type": "code",
   "execution_count": 116,
   "metadata": {},
   "outputs": [
    {
     "name": "stdin",
     "output_type": "stream",
     "text": [
      "Enter comma-separated values for D:  100,150,180\n"
     ]
    },
    {
     "name": "stdout",
     "output_type": "stream",
     "text": [
      "18,22,24\n"
     ]
    }
   ],
   "source": [
    "#Question 6\n",
    "#Write a program that calculates and prints values based on the formula: [ Q = \\sqrt{\\frac{2 \\times C \\times D}{H}} ]\n",
    "import math\n",
    "\n",
    "# Fixing the constants C anf H\n",
    "C = 50\n",
    "H = 30\n",
    "d_values = input(\"Enter comma-separated values for D: \").split(',')\n",
    "q_values = [int(math.sqrt((2 * C * int(d)) / H)) for d in d_values]\n",
    "result_list = \",\".join(map(str, q_values))\n",
    "\n",
    "# Printing the final list \n",
    "print(result_list)\n"
   ]
  },
  {
   "cell_type": "code",
   "execution_count": 9,
   "metadata": {},
   "outputs": [
    {
     "name": "stdout",
     "output_type": "stream",
     "text": [
      "2\n"
     ]
    }
   ],
   "source": [
    "import math\n",
    "#Question 21\n",
    "# A robot moving on a grid starting from the origin\n",
    "x, y = 0, 0\n",
    "\n",
    "# Listing all possible moves\n",
    "moves = [(\"UP\", 5),(\"DOWN\", 3),(\"LEFT\", 3),(\"RIGHT\", 2)]\n",
    "for direction, steps in moves:\n",
    "    if direction == \"UP\":\n",
    "        y += steps\n",
    "    elif direction == \"DOWN\":\n",
    "        y -= steps\n",
    "    elif direction == \"LEFT\":\n",
    "        x -= steps\n",
    "    elif direction == \"RIGHT\":\n",
    "        x += steps\n",
    "\n",
    "# Calculating Euclidean distance from the origin (0, 0) \n",
    "distance = math.sqrt(x**2 + y**2)\n",
    "\n",
    "# Printing the nearest integer of the distance\n",
    "print(round(distance))\n"
   ]
  },
  {
   "cell_type": "code",
   "execution_count": 11,
   "metadata": {},
   "outputs": [
    {
     "name": "stdout",
     "output_type": "stream",
     "text": [
      "[('John', 20, 90), ('Jony', 17, 91), ('Jony', 17, 93), ('Json', 21, 85), ('Tom', 19, 80)]\n"
     ]
    }
   ],
   "source": [
    "#Question 21\n",
    "#Create a program that sorts a list of (name, age, height) tuples tuples based on the following priority: Name (alphabetically)\n",
    "#Age (numerically) Height (numerically)\n",
    "\n",
    "data = [(\"Tom\", 19, 80),(\"John\", 20, 90),(\"Jony\", 17, 91),(\"Jony\", 17, 93),(\"Json\", 21, 85)]\n",
    "\n",
    "# using the .sort method to Sort the list in place by Name, Age, and Height\n",
    "data.sort(key=lambda x: (x[0], x[1], x[2]))\n",
    "\n",
    "# Finally, we print the sorted list\n",
    "print(data)\n"
   ]
  },
  {
   "cell_type": "code",
   "execution_count": 15,
   "metadata": {},
   "outputs": [
    {
     "name": "stdout",
     "output_type": "stream",
     "text": [
      "500\n"
     ]
    }
   ],
   "source": [
    "#Question 17\n",
    "#Program to calcualte the net amount in a bank account based on a transaction log input. \n",
    "\n",
    "net_amount = 0\n",
    "\n",
    "transactions = [ \"D 300\", \"D 300\", \"W 200\", \"D 100\"]\n",
    "for transaction in transactions:\n",
    "    type, amount = transaction.split()\n",
    "    amount = int(amount)\n",
    "    if type == 'D':\n",
    "        net_amount = net_amount + amount  \n",
    "    elif type == 'W':\n",
    "        net_amount = net_amount - amount \n",
    "print(net_amount)\n"
   ]
  },
  {
   "cell_type": "code",
   "execution_count": 17,
   "metadata": {},
   "outputs": [
    {
     "name": "stdout",
     "output_type": "stream",
     "text": [
      "1,9,25,49,81\n"
     ]
    }
   ],
   "source": [
    "#Question 16\n",
    "#Program that uses a list comprehension to generate a list of squares for each odd number in a given sequence of comma-separated values.\n",
    "input_sequence = \"1,2,3,4,5,6,7,8,9\"\n",
    "\n",
    "# First we convert the input sequence to a list of integers\n",
    "numbers = list(map(int, input_sequence.split(',')))\n",
    "\n",
    "# Using list comprehension we get the squares of odd numbers\n",
    "squares_of_odds = [x**2 for x in numbers if x % 2 != 0]\n",
    "\n",
    "# FInally we convert the result back to a comma-separated string and print\n",
    "print(\",\".join(map(str, squares_of_odds)))\n"
   ]
  },
  {
   "cell_type": "code",
   "execution_count": 25,
   "metadata": {},
   "outputs": [
    {
     "name": "stdin",
     "output_type": "stream",
     "text": [
      "Enter a single digit:  5\n"
     ]
    },
    {
     "name": "stdout",
     "output_type": "stream",
     "text": [
      "6170\n"
     ]
    }
   ],
   "source": [
    "#Question 15\n",
    "#Program that calculates the value of a + aa + aaa + aaaa given a digit as the value of a.\n",
    "\n",
    "a = input(\"Enter a single digit: \")\n",
    "term1 = int(a)\n",
    "term2 = int(a * 2)\n",
    "term3 = int(a * 3)\n",
    "term4 = int(a * 4)\n",
    "sum_expresssion = term1 + term2 + term3 + term4\n",
    "\n",
    "\n",
    "print(sum_expresssion)\n"
   ]
  },
  {
   "cell_type": "code",
   "execution_count": 27,
   "metadata": {},
   "outputs": [
    {
     "name": "stdin",
     "output_type": "stream",
     "text": [
      "Enter a sentence:  Hello my name is Evariste\n"
     ]
    },
    {
     "name": "stdout",
     "output_type": "stream",
     "text": [
      "UPPER CASE LETTERS ARE:  2\n",
      "LOWER CASE LETTERS ARE:  19\n"
     ]
    }
   ],
   "source": [
    "#Question 14\n",
    "#Program that counts and prints the number of uppercase and lowercase letters in a given sentence.\n",
    "\n",
    "user_sentence = input(\"Enter a sentence: \")\n",
    "uppercase_count = 0\n",
    "lowercase_count = 0\n",
    "for char in user_sentence:\n",
    "    if char.isupper():\n",
    "        uppercase_count = uppercase_count + 1\n",
    "    elif char.islower():\n",
    "        lowercase_count = lowercase_count + 1\n",
    "\n",
    "print(\"UPPER CASE LETTERS ARE: \", uppercase_count)\n",
    "print(\"LOWER CASE LETTERS ARE: \", lowercase_count)\n"
   ]
  },
  {
   "cell_type": "code",
   "execution_count": 31,
   "metadata": {},
   "outputs": [
    {
     "name": "stdout",
     "output_type": "stream",
     "text": [
      "2000,2002,2004,2006,2008,2020,2022,2024,2026,2028,2040,2042,2044,2046,2048,2060,2062,2064,2066,2068,2080,2082,2084,2086,2088,2200,2202,2204,2206,2208,2220,2222,2224,2226,2228,2240,2242,2244,2246,2248,2260,2262,2264,2266,2268,2280,2282,2284,2286,2288,2400,2402,2404,2406,2408,2420,2422,2424,2426,2428,2440,2442,2444,2446,2448,2460,2462,2464,2466,2468,2480,2482,2484,2486,2488,2600,2602,2604,2606,2608,2620,2622,2624,2626,2628,2640,2642,2644,2646,2648,2660,2662,2664,2666,2668,2680,2682,2684,2686,2688,2800,2802,2804,2806,2808,2820,2822,2824,2826,2828,2840,2842,2844,2846,2848,2860,2862,2864,2866,2868,2880,2882,2884,2886,2888\n"
     ]
    }
   ],
   "source": [
    "#Question 12\n",
    "#Program that finds all numbers between 1000 and 3000 (inclusive) where each digit is an even number. \n",
    "\n",
    "even_digit_numbers = []\n",
    "for num in range(1000, 3001):\n",
    "    num_str = str(num)\n",
    "    if all(int(digit) % 2 == 0 for digit in num_str):\n",
    "        even_digit_numbers.append(num_str)\n",
    "\n",
    "print(\",\".join(even_digit_numbers))\n"
   ]
  },
  {
   "cell_type": "code",
   "execution_count": 33,
   "metadata": {},
   "outputs": [
    {
     "name": "stdout",
     "output_type": "stream",
     "text": [
      "[ 1  2  3  4  5  6  7  8  9 10]\n"
     ]
    }
   ],
   "source": [
    "#Light Practical exercise \n",
    "#Execercise 1\n",
    "#Numpy array of integer from 1 to 10\n",
    "import numpy as np\n",
    "\n",
    "array = np.arange(1, 11)\n",
    "print(array)\n"
   ]
  },
  {
   "cell_type": "code",
   "execution_count": 35,
   "metadata": {},
   "outputs": [
    {
     "name": "stdout",
     "output_type": "stream",
     "text": [
      "[[0. 0. 0.]\n",
      " [0. 0. 0.]\n",
      " [0. 0. 0.]]\n"
     ]
    }
   ],
   "source": [
    "#Exercise 2\n",
    "# 3x3 array with zeroes\n",
    "import numpy as np\n",
    "\n",
    "array = np.zeros((3, 3))\n",
    "print(array)\n"
   ]
  },
  {
   "cell_type": "code",
   "execution_count": 37,
   "metadata": {},
   "outputs": [
    {
     "name": "stdout",
     "output_type": "stream",
     "text": [
      "[0.         0.55555556 1.11111111 1.66666667 2.22222222 2.77777778\n",
      " 3.33333333 3.88888889 4.44444444 5.        ]\n"
     ]
    }
   ],
   "source": [
    "#Exercise 3\n",
    "#NumPy array of 10 evenly spaced numbers between 0 and 5.\n",
    "import numpy as np\n",
    "\n",
    "array = np.linspace(0, 5, 10)\n",
    "print(array)\n"
   ]
  },
  {
   "cell_type": "code",
   "execution_count": 45,
   "metadata": {},
   "outputs": [
    {
     "name": "stdout",
     "output_type": "stream",
     "text": [
      "[[1. 0. 0. 0. 0.]\n",
      " [0. 1. 0. 0. 0.]\n",
      " [0. 0. 1. 0. 0.]\n",
      " [0. 0. 0. 1. 0.]\n",
      " [0. 0. 0. 0. 1.]]\n"
     ]
    }
   ],
   "source": [
    "#Exercise 4\n",
    "# 5x5 identity matrix\n",
    "import numpy as np\n",
    "\n",
    "array = np.eye(5)\n",
    "print(array)\n"
   ]
  },
  {
   "cell_type": "code",
   "execution_count": 47,
   "metadata": {},
   "outputs": [
    {
     "name": "stdout",
     "output_type": "stream",
     "text": [
      "[[0.26924016 0.12951215 0.71062267 0.80974927]\n",
      " [0.46817796 0.87244914 0.34347186 0.64152077]\n",
      " [0.18495849 0.86996242 0.11691778 0.36541952]\n",
      " [0.72810033 0.04443413 0.52473494 0.99242574]]\n"
     ]
    }
   ],
   "source": [
    "#exercisre 5\n",
    "#4x4 matrix with random number between 0 and 1\n",
    "import numpy as np\n",
    "\n",
    "matrix = np.random.rand(4, 4)\n",
    "print(matrix)\n"
   ]
  },
  {
   "cell_type": "code",
   "execution_count": 49,
   "metadata": {},
   "outputs": [
    {
     "name": "stdout",
     "output_type": "stream",
     "text": [
      "The shape of the given array is (2, 3)\n"
     ]
    }
   ],
   "source": [
    "#Exercise 6\n",
    "#Shape of numpy array\n",
    "import numpy as np\n",
    "array = np.array([[1, 2, 3], [4, 5, 6]])\n",
    "shape = array.shape\n",
    "print(\"The shape of the given array is\",shape)\n"
   ]
  },
  {
   "cell_type": "code",
   "execution_count": 55,
   "metadata": {},
   "outputs": [
    {
     "name": "stdout",
     "output_type": "stream",
     "text": [
      "[ 0  1  2  3  4  5  6  7  8  9 10 11 12 13 14 15]\n",
      "==================================================\n",
      "[[ 0  1  2  3]\n",
      " [ 4  5  6  7]\n",
      " [ 8  9 10 11]\n",
      " [12 13 14 15]]\n"
     ]
    }
   ],
   "source": [
    "#Exercise 7\n",
    "#Reshaping the 1D array to a 4x4 array\n",
    "import numpy as np\n",
    "\n",
    "array_1d = np.arange(16)  \n",
    "print(array_1d)\n",
    "print(\"==================================================\")\n",
    "matrix_4x4 = array_1d.reshape((4, 4))\n",
    "print(matrix_4x4)\n"
   ]
  },
  {
   "cell_type": "code",
   "execution_count": 57,
   "metadata": {},
   "outputs": [
    {
     "name": "stdout",
     "output_type": "stream",
     "text": [
      "int32\n"
     ]
    }
   ],
   "source": [
    "#Exercise 8\n",
    "#getting the data tyoes of the elements in the numpy array\n",
    "import numpy as np\n",
    "array = np.array([1, 2, 3, 4, 5])\n",
    "# to get the data type of the elements in the array we as follows\n",
    "data_type = array.dtype\n",
    "print(data_type)\n"
   ]
  },
  {
   "cell_type": "code",
   "execution_count": 61,
   "metadata": {},
   "outputs": [
    {
     "name": "stdout",
     "output_type": "stream",
     "text": [
      "[  2   4   6   8  10  12  14  16  18  20  22  24  26  28  30  32  34  36\n",
      "  38  40  42  44  46  48  50  52  54  56  58  60  62  64  66  68  70  72\n",
      "  74  76  78  80  82  84  86  88  90  92  94  96  98 100]\n"
     ]
    }
   ],
   "source": [
    "#Exercise 9\n",
    "# Creating a NumPy array of integers from 1 to 100\n",
    "import numpy as np\n",
    "\n",
    "user_array = np.arange(1, 101)\n",
    "even_numbers = user_array[user_array % 2 == 0]\n",
    "print(even_numbers)\n"
   ]
  },
  {
   "cell_type": "code",
   "execution_count": 63,
   "metadata": {},
   "outputs": [
    {
     "name": "stdout",
     "output_type": "stream",
     "text": [
      "[[47 19 28 37 30 44]\n",
      " [37 49 27 19 19 13]\n",
      " [31 38 16 24 34 19]\n",
      " [18 18 10 35 32 26]\n",
      " [23 40 28 36 40 28]\n",
      " [36 35 13 50 11 49]]\n"
     ]
    }
   ],
   "source": [
    "#Exercise 10\n",
    "#6x6 numpy array of random number between 10 and 50\n",
    "import numpy as np\n",
    "matrix_6x6 = np.random.randint(10, 51, size=(6, 6))\n",
    "print(matrix_6x6)\n"
   ]
  },
  {
   "cell_type": "code",
   "execution_count": 65,
   "metadata": {
    "scrolled": true
   },
   "outputs": [
    {
     "name": "stdout",
     "output_type": "stream",
     "text": [
      "Original Matrix is:\n",
      "[[ 1  2  3  4  5]\n",
      " [ 6  7  8  9 10]\n",
      " [11 12 13 14 15]\n",
      " [16 17 18 19 20]\n",
      " [21 22 23 24 25]]\n",
      "\n",
      " Sliced Submatrix is:\n",
      "[[ 7  8  9]\n",
      " [12 13 14]\n",
      " [17 18 19]]\n"
     ]
    }
   ],
   "source": [
    "#Exercise 11\n",
    "#Slicing a numpy array\n",
    "import numpy as np\n",
    "matrix = np.array([[1, 2, 3, 4, 5],\n",
    "                   [6, 7, 8, 9, 10],\n",
    "                   [11, 12, 13, 14, 15],\n",
    "                   [16, 17, 18, 19, 20],\n",
    "                   [21, 22, 23, 24, 25]])\n",
    "\n",
    "# Slicing the matrix in oder to extract a submatrix (for example, rows 1 to 3 and columns 1 to 4)\n",
    "submatrix = matrix[1:4, 1:4]\n",
    "print(\"Original Matrix is:\")\n",
    "print(matrix)\n",
    "print(\"\\n Sliced Submatrix is:\")\n",
    "print(submatrix)\n"
   ]
  },
  {
   "cell_type": "code",
   "execution_count": 67,
   "metadata": {},
   "outputs": [
    {
     "name": "stdout",
     "output_type": "stream",
     "text": [
      "The sum of all elements in the array is : 45\n"
     ]
    }
   ],
   "source": [
    "#Exercise 12\n",
    "#Sum of element in numpy array\n",
    "import numpy as np\n",
    "array = np.array([[1, 2, 3],\n",
    "                   [4, 5, 6],\n",
    "                   [7, 8, 9]])\n",
    "total_sum = np.sum(array)\n",
    "\n",
    "print(\"The sum of all elements in the array is :\", total_sum)\n"
   ]
  },
  {
   "cell_type": "code",
   "execution_count": 69,
   "metadata": {},
   "outputs": [
    {
     "name": "stdout",
     "output_type": "stream",
     "text": [
      "The mean is: 5.5\n",
      "The median is: 5.5\n",
      "The standard Deviation is: 2.8722813232690143\n"
     ]
    }
   ],
   "source": [
    "#Exercise 13\n",
    "#Mean, median and standard deviation of elements in a numpy array \n",
    "import numpy as np\n",
    "array = np.array([1, 2, 3, 4, 5, 6, 7, 8, 9, 10])\n",
    "mean_value = np.mean(array)\n",
    "median_value = np.median(array)\n",
    "std_deviation = np.std(array)\n",
    "\n",
    "print(\"The mean is:\", mean_value)\n",
    "print(\"The median is:\", median_value)\n",
    "print(\"The standard Deviation is:\", std_deviation)\n",
    "\n"
   ]
  },
  {
   "cell_type": "code",
   "execution_count": 71,
   "metadata": {},
   "outputs": [
    {
     "name": "stdout",
     "output_type": "stream",
     "text": [
      "The maximum Value is: 22\n",
      "The minimum Value is: 1\n"
     ]
    }
   ],
   "source": [
    "#Exercise 14\n",
    "#Max and Min element in a numoy array\n",
    "import numpy as np\n",
    "\n",
    "array = np.array([10, 15, 3, 7, 22, 8, 1])\n",
    "max_value = np.max(array)\n",
    "min_value = np.min(array)\n",
    "print(\"The maximum Value is:\", max_value)\n",
    "print(\"The minimum Value is:\", min_value)\n"
   ]
  },
  {
   "cell_type": "code",
   "execution_count": 73,
   "metadata": {},
   "outputs": [
    {
     "name": "stdout",
     "output_type": "stream",
     "text": [
      "The given array is: [50 94 21 46  8 78 24 70 11 56 32 80 48 58 49 16 13 21  3 11]\n",
      "The Index of Maximum Value is: 1\n"
     ]
    }
   ],
   "source": [
    "#Exercise 15\n",
    "# NumPy array of 20 random integers and find the index of the maximum value.\n",
    "import numpy as np\n",
    "\n",
    "array = np.random.randint(0, 100, size=20)\n",
    "max_index = np.argmax(array)\n",
    "\n",
    "print(\"The given array is:\", array)\n",
    "print(\"The Index of Maximum Value is:\", max_index)\n"
   ]
  },
  {
   "cell_type": "markdown",
   "metadata": {
    "id": "1NM58TuNNYgq"
   },
   "source": [
    "****\n",
    "\n",
    "<!--NAVIGATION-->\n",
    "<  [5.Functions, Modules & PAckages](05.Lecture05.ipynb)| [ToC](Index.ipynb) | [7.Matplotlib](07.Lecture07.ipynb)>\n",
    "\n",
    "****"
   ]
  }
 ],
 "metadata": {
  "colab": {
   "include_colab_link": true,
   "provenance": []
  },
  "kernelspec": {
   "display_name": "Python 3 (ipykernel)",
   "language": "python",
   "name": "python3"
  },
  "language_info": {
   "codemirror_mode": {
    "name": "ipython",
    "version": 3
   },
   "file_extension": ".py",
   "mimetype": "text/x-python",
   "name": "python",
   "nbconvert_exporter": "python",
   "pygments_lexer": "ipython3",
   "version": "3.12.4"
  }
 },
 "nbformat": 4,
 "nbformat_minor": 4
}
