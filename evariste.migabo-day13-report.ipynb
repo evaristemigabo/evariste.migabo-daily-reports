{
 "cells": [
  {
   "cell_type": "markdown",
   "id": "4d4452df-91ee-4960-b398-0e0cb9afbf1a",
   "metadata": {},
   "source": [
    "# Challenge 3"
   ]
  },
  {
   "cell_type": "code",
   "execution_count": 15,
   "id": "5b1b02b3-edfd-4714-8ab0-f26e75195065",
   "metadata": {},
   "outputs": [
    {
     "name": "stdout",
     "output_type": "stream",
     "text": [
      "[6, 28, 496, 8128]\n"
     ]
    }
   ],
   "source": [
    "#Exercise 1\n",
    "#Program to print Perfect numbers up to 10000\n",
    "def calc_perfect_numbers(max_exclusive):\n",
    "    perfect_numbers = []\n",
    "    \n",
    "    for num in range(2, max_exclusive):\n",
    "        divisors_sum = sum([i for i in range(1, num // 2 + 1) if num % i == 0])\n",
    "        if divisors_sum == num:\n",
    "            perfect_numbers.append(num)\n",
    "            \n",
    "    return perfect_numbers\n",
    "\n",
    "print(calc_perfect_numbers(10000))\n"
   ]
  },
  {
   "cell_type": "code",
   "execution_count": 23,
   "id": "75235860-b359-4104-8497-313993b8d92b",
   "metadata": {},
   "outputs": [
    {
     "name": "stdin",
     "output_type": "stream",
     "text": [
      "Enter any positive integer 1000\n"
     ]
    },
    {
     "name": "stdout",
     "output_type": "stream",
     "text": [
      "The primes that are less than or equal to 1000 are [2, 3, 5, 7, 11, 13, 17, 19, 23, 29, 31, 37, 41, 43, 47, 53, 59, 61, 67, 71, 73, 79, 83, 89, 97, 101, 103, 107, 109, 113, 127, 131, 137, 139, 149, 151, 157, 163, 167, 173, 179, 181, 191, 193, 197, 199, 211, 223, 227, 229, 233, 239, 241, 251, 257, 263, 269, 271, 277, 281, 283, 293, 307, 311, 313, 317, 331, 337, 347, 349, 353, 359, 367, 373, 379, 383, 389, 397, 401, 409, 419, 421, 431, 433, 439, 443, 449, 457, 461, 463, 467, 479, 487, 491, 499, 503, 509, 521, 523, 541, 547, 557, 563, 569, 571, 577, 587, 593, 599, 601, 607, 613, 617, 619, 631, 641, 643, 647, 653, 659, 661, 673, 677, 683, 691, 701, 709, 719, 727, 733, 739, 743, 751, 757, 761, 769, 773, 787, 797, 809, 811, 821, 823, 827, 829, 839, 853, 857, 859, 863, 877, 881, 883, 887, 907, 911, 919, 929, 937, 941, 947, 953, 967, 971, 977, 983, 991, 997]\n"
     ]
    }
   ],
   "source": [
    "#Exercise 2\n",
    "\n",
    "##Program to print Prime numbers up to a certain limit\n",
    "\n",
    "def calc_primes_up_to(max_value):\n",
    "    if max_value < 2:\n",
    "        return []\n",
    "    is_prime = [True] * (max_value + 1)\n",
    "    is_prime[0] = is_prime[1] = False  # 0 and 1 are not prime\n",
    "\n",
    "    # Marking the non-primes based on the Sieve of Eratosthenes\n",
    "    for i in range(2, int(max_value ** 0.5) + 1):\n",
    "        if is_prime[i]:\n",
    "            for j in range(i * i, max_value + 1, i):\n",
    "                is_prime[j] = False\n",
    "    primes = [num for num, prime in enumerate(is_prime) if prime]\n",
    "    return primes\n",
    "user_input = int(input(\"Enter any positive integer\"))\n",
    "print(\"The primes that are less than or equal to\",user_input,\"are\",calc_primes_up_to(user_input))\n"
   ]
  },
  {
   "cell_type": "code",
   "execution_count": 27,
   "id": "950932c3-3fca-4949-96ab-de8bd8472ddc",
   "metadata": {},
   "outputs": [
    {
     "name": "stdin",
     "output_type": "stream",
     "text": [
      "Enter any positive integer 10\n"
     ]
    },
    {
     "name": "stdout",
     "output_type": "stream",
     "text": [
      "1010\n"
     ]
    }
   ],
   "source": [
    "#Program to convert a number to binary\n",
    "def to_binary(n):\n",
    "    if n == 0:\n",
    "        return 0\n",
    "    else: \n",
    "        return (n%2 + 10*to_binary(int(n // 2)))\n",
    "user_input = int(input(\"Enter any positive integer\"))\n",
    "print(to_binary(user_input))"
   ]
  },
  {
   "cell_type": "code",
   "execution_count": 4,
   "id": "d33f43c1-bb9f-4a49-9157-8c7f1e4b374e",
   "metadata": {},
   "outputs": [
    {
     "name": "stdin",
     "output_type": "stream",
     "text": [
      "Enter an upper bound of n 100\n"
     ]
    },
    {
     "name": "stdout",
     "output_type": "stream",
     "text": [
      "Twins: {3: 5, 5: 7, 11: 13, 17: 19, 29: 31, 41: 43, 59: 61, 71: 73}\n",
      "Cousins: {3: 7, 7: 11, 13: 17, 19: 23, 37: 41, 43: 47, 67: 71, 79: 83}\n",
      "Sexy: {5: 11, 7: 13, 11: 17, 13: 19, 17: 23, 23: 29, 31: 37, 37: 43, 41: 47, 47: 53, 53: 59, 61: 67, 67: 73, 73: 79, 83: 89}\n"
     ]
    }
   ],
   "source": [
    "#Exercise 5\n",
    "def is_prime(num):\n",
    "    if num < 2:\n",
    "        return False\n",
    "    for i in range(2, int(num ** 0.5) + 1):\n",
    "        if num % i == 0:\n",
    "            return False\n",
    "    return True\n",
    "\n",
    "def generate_prime_pairs(limit, distance):\n",
    "    primes = [i for i in range(2, limit + 1) if is_prime(i)]\n",
    "    prime_pairs = {}\n",
    "    \n",
    "    for prime in primes:\n",
    "        if prime + distance in primes:\n",
    "            prime_pairs[prime] = prime + distance\n",
    "\n",
    "    return prime_pairs\n",
    "\n",
    "def find_prime_pairs(limit):\n",
    "    twins = generate_prime_pairs(limit, 2)\n",
    "    cousins = generate_prime_pairs(limit, 4)\n",
    "    sexy = generate_prime_pairs(limit, 6)\n",
    "    \n",
    "    print(f\"Twins: {twins}\")\n",
    "    print(f\"Cousins: {cousins}\")\n",
    "    print(f\"Sexy: {sexy}\")\n",
    "\n",
    "# Example usage:\n",
    "user_input = int(input(\"Enter an upper bound of n\"))\n",
    "find_prime_pairs(user_input)\n"
   ]
  },
  {
   "cell_type": "code",
   "execution_count": 35,
   "id": "522a771c-e870-41d6-ad18-d070cbcf3f24",
   "metadata": {},
   "outputs": [
    {
     "name": "stdin",
     "output_type": "stream",
     "text": [
      "Enter any positive integer 123456789\n"
     ]
    },
    {
     "name": "stdout",
     "output_type": "stream",
     "text": [
      "45\n"
     ]
    }
   ],
   "source": [
    "#Exercise 4\n",
    "#Function that returns the sim of digits of a positive integers \n",
    "\n",
    "def calc_sum_of_digits(value):\n",
    "    if value < 10:\n",
    "        return value\n",
    "    else:\n",
    "        return value % 10 + calc_sum_of_digits(value // 10)\n",
    "user_input = int(input(\"Enter any positive integer\"))\n",
    "print(calc_sum_of_digits(user_input)) \n"
   ]
  }
 ],
 "metadata": {
  "kernelspec": {
   "display_name": "Python 3 (ipykernel)",
   "language": "python",
   "name": "python3"
  },
  "language_info": {
   "codemirror_mode": {
    "name": "ipython",
    "version": 3
   },
   "file_extension": ".py",
   "mimetype": "text/x-python",
   "name": "python",
   "nbconvert_exporter": "python",
   "pygments_lexer": "ipython3",
   "version": "3.12.4"
  }
 },
 "nbformat": 4,
 "nbformat_minor": 5
}
