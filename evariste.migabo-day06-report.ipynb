{
 "cells": [
  {
   "cell_type": "code",
   "execution_count": null,
   "id": "f183cec8-04a0-427d-84a5-ddd28b033196",
   "metadata": {},
   "outputs": [],
   "source": [
    "#Question 1\n",
    "# a) Program to calculate the sum of odd indices\n",
    "\n",
    "n = int(input(\"Enter the number you want to find the sum up to:\\n\"))\n",
    "sum = 0\n",
    "while True:\n",
    "    if n>0 :\n",
    "        break\n",
    "    else:\n",
    "     n=int(input(\"input a positive integer:\\n\"))  \n",
    "for i in range(n):\n",
    "    if i%2 == 1:\n",
    "        sum = sum + (i+3)\n",
    "        i = i+1\n",
    "print(\"a) The sum of odd indices i of (i+3) up to\",n-1 ,\"is\",sum)\n",
    "\n",
    "\n",
    "# b) Program to calculate the product of even indices \n",
    "\n",
    "m = int(input(\"Enter the number you want to find the sum up to:\\n\"))\n",
    "prod = 1\n",
    "while True:\n",
    "    if m>0 :\n",
    "        break\n",
    "    else:\n",
    "     m=int(input(\"input a positive integer:\\n\"))  \n",
    "for i in range(m):\n",
    "    if i%2 == 0:\n",
    "        prod = prod*(i+3)\n",
    "        i = i+1\n",
    "print(\"b) The product of even indices i of (i+3) up to\",m-1 ,\"is\",prod)"
   ]
  },
  {
   "cell_type": "code",
   "execution_count": null,
   "id": "efe4d4a7-0084-41ad-b66b-0b055d2a0ed9",
   "metadata": {
    "scrolled": true
   },
   "outputs": [],
   "source": [
    "#Question 2\n",
    "#Program that checks if the day is a working day or a weekend\n",
    "num_day = int(input(\"Enter the number of day between 0 and 6:\\n\"))\n",
    "my_list = [\"Sunday\",\"Monday\",\"Tuesday\",\"Wednesday\",\"Thursday\",\"Friday\",\"Saturday\"]\n",
    "while True:\n",
    "    if num_day >= 0 and num_day <= 6:\n",
    "        break\n",
    "    else:\n",
    "     num_day=int(input(\"input a valid day between 0 and 6:\\n\"))\n",
    "\n",
    "if num_day == 0:\n",
    "    print(my_list[0],\"is a weekend\")\n",
    "elif num_day ==1:\n",
    "    print(my_list[1],\"is a working day\")\n",
    "elif num_day ==2:\n",
    "    print(my_list[2],\"is a working day\")\n",
    "elif num_day ==3:\n",
    "    print(my_list[3],\"is a working day\")\n",
    "elif num_day ==4:\n",
    "    print(my_list[4],\"is a working day\")\n",
    "elif num_day ==5:\n",
    "    print(my_list[5],\"is a working day\")\n",
    "elif num_day ==6:\n",
    "    print(my_list[6],\"is a weekend\")\n",
    "\n"
   ]
  },
  {
   "cell_type": "code",
   "execution_count": null,
   "id": "648b21c9-f6e0-4788-9cce-15b30a900ffc",
   "metadata": {},
   "outputs": [],
   "source": [
    "#Question 3\n",
    "#Program that returns the number of days in month\n",
    "month_num = int(input(\"Enter the month number between 0 and 11:\\n\"))\n",
    "num_days = [31,28,30,]\n",
    "while True:\n",
    "    if month_num  >= 0 and month_num  <= 11 :\n",
    "        break\n",
    "    else:\n",
    "     month_num=int(input(\"input a valid month number between 0 and 11:\\n\"))\n",
    "\n",
    "if month_num == 0 or month_num == 2 or month_num == 4 or month_num == 6 or month_num == 7 or month_num == 9 or month_num == 11:\n",
    "    print(\"The month number\",month_num,\"has\",num_days[0],\"days\")\n",
    "elif month_num  == 1:\n",
    "    print(\"The month number\",month_num,\"has\",num_days[1],\"days\")\n",
    "elif month_num == 3 or month_num == 5 or month_num == 8 or month_num == 10:\n",
    "    print(\"The month number\",month_num,\"has\",num_days[2],\"days\")\n"
   ]
  },
  {
   "cell_type": "code",
   "execution_count": null,
   "id": "93491997-6dc7-4a1d-9e57-a8fe8525032f",
   "metadata": {},
   "outputs": [],
   "source": [
    "#Question 4\n",
    "#Program that prints my name twice using for loop\n",
    "print(\"Using for loop\\n\")\n",
    "n = 3\n",
    "for i in range(n):\n",
    "    print(\"My name is Migabo Kisimbanyi Evariste\\n\")\n",
    "print(\"===========================================\\n\")\n",
    "print(\"Using while loop\\n\")\n",
    "#Program that prints my name twice using while loop\n",
    "x = 0\n",
    "while (x < 3):\n",
    "      print(\"My name is Migabo Kisimbanyi Evariste\\n\")\n",
    "      x = x + 1"
   ]
  },
  {
   "cell_type": "code",
   "execution_count": null,
   "id": "394dfe5c-f6a4-465e-ace1-0a5bba8946f4",
   "metadata": {},
   "outputs": [],
   "source": [
    "#Question 5\n",
    "#Program to display the first 15 terms of a Fibonacci sequence\n",
    "a_0 = int(input(\"Enter the first initial term\"))\n",
    "a_1 = int(input(\"Enter the second initial term\"))\n",
    "n = 15\n",
    "for i in range(n):\n",
    "    sum = a_1 + a_0\n",
    "    a_0 = a_1 \n",
    "    a_1 = sum \n",
    "    print(sum)\n"
   ]
  },
  {
   "cell_type": "code",
   "execution_count": null,
   "id": "0f111589-41ef-4dd3-82b4-218416894348",
   "metadata": {},
   "outputs": [],
   "source": [
    "#Question 6\n",
    "#Program that out the first 30 terms of the sequence 2x_{n+2} − x_{n+1} − 6x_n = 0\n",
    "x_0 = int(input(\"Enter the first initial term\"))\n",
    "x_1 = int(input(\"Enter the second initial term\"))\n",
    "m = 30\n",
    "for i in range(m):\n",
    "    sum = (0.5)*x_1 + 3*x_0\n",
    "    x_0 = a_1 \n",
    "    x_1 = sum \n",
    "    print(sum)"
   ]
  },
  {
   "cell_type": "code",
   "execution_count": null,
   "id": "303e3062-fa5c-464e-9046-dd5bb819b3e2",
   "metadata": {},
   "outputs": [],
   "source": [
    "#Question 7\n",
    "\"\"\"#a) Python code to determine whether or not a year is a leap year. \n",
    "year_num = int(input(\"Enter any year:\\n\"))\n",
    "\n",
    "while True:\n",
    "    if year_num  >=  400:\n",
    "        break\n",
    "    else:\n",
    "     year_num = int(input(\"input a valid month number between 0 and 11:\\n\"))\n",
    "\n",
    "if year_num % 4  == 0 and year_num % 100 != 0 and year_num % 400 != 0:\n",
    "    print(\"The year\",year_num ,\"is a leap year\")\n",
    "elif year_num % 100 == 0 and year_num % 400 == 0:\n",
    "    print(\"The year\",year_num ,\"is a leap year\")\n",
    "else: \n",
    "    print(\"The year\",year_num ,\"is not a leap year\")\"\"\"\n",
    "\n",
    "\n",
    "\n",
    "#b) Python code to determine whether or not a year is a leap year using logical operators \n",
    "num_year = int(input(\"Enter any year:\\n\"))\n",
    "while True:\n",
    "    if num_year  >=  400:\n",
    "        break\n",
    "    else:\n",
    "     num_year = int(input(\"input a valid month number between 0 and 11:\\n\"))\n",
    "\n",
    "if (num_year % 4  == 0 and num_year % 100 != 0 and num_year % 400 != 0 ) or (num_year % 100 == 0 and num_year % 400 == 0):\n",
    "    print(\"The year\",num_year ,\"is a leap year\")\n",
    "else:\n",
    "    print(\"The year\",num_year ,\"is not a leap year\")\n"
   ]
  },
  {
   "cell_type": "code",
   "execution_count": null,
   "id": "74124a7b-2561-47c0-a145-84cc16c60e2c",
   "metadata": {},
   "outputs": [],
   "source": [
    "#Question 8\n",
    "# a)\n",
    "#i) Program to calculate the sum of squares of natural numbers using for loop\n",
    "\n",
    "n = int(input(\"Enter the number you want to find the sum up to:\\n\"))\n",
    "sum = 0\n",
    "while True:\n",
    "    if n>=0 :\n",
    "        break\n",
    "    else:\n",
    "     n=int(input(\"input a non-negative integer:\\n\"))  \n",
    "for i in range(n+1):\n",
    "        sum = sum + i*i\n",
    "        i = i+1\n",
    "print(\"i) The sum of squares of natural number up to\",n,\"using for loop is\",sum)\n",
    "\n",
    "\n",
    "\n",
    "#ii) Program to calculate the sum of squares of natural numbers using while loop\n",
    "\n",
    "m = int(input(\"Enter the number you want to find the sum up to:\\n\"))\n",
    "r = 0\n",
    "sum = 0\n",
    "while True:\n",
    "    if m>=0 :\n",
    "        break\n",
    "    else:\n",
    "     m=int(input(\"input a non-negative integer:\\n\"))  \n",
    "while r < m+1:\n",
    "        sum = sum + r*r\n",
    "        r = r+1\n",
    "print(\"ii) The sum of squares of natural number up to\",m,\"using while loop is\",sum)\n",
    "\n"
   ]
  },
  {
   "cell_type": "code",
   "execution_count": null,
   "id": "83f1f873-48aa-4ae5-b262-de91152c92e4",
   "metadata": {},
   "outputs": [],
   "source": [
    "#Question 8\n",
    "# b)\n",
    "#i) Program to print the smallest natural number n  using for loop\n",
    "\n",
    "M = int(input(\"Enter the value of M:\\n\"))\n",
    "sum = 0\n",
    "while True:\n",
    "    if (M >=0):\n",
    "        break\n",
    "    else:\n",
    "        M = int(input(\"enter a valid positive natural number\"))\n",
    "for i in range(M+1):\n",
    "    sum = sum + i*i\n",
    "    if (sum >= M):\n",
    "        break\n",
    "print(\"i) Using for loop: The smallest n such that the sum of squares is atleast\",M,\"is\",i)\n",
    "\n",
    "\n",
    "\n",
    "#i) Program to print the smallest natural number n  using while loop\n",
    "\n",
    "N = int(input(\"Enter the value of N:\\n\"))\n",
    "add = 0\n",
    "m =0\n",
    "while True:\n",
    "    if (N >=0):\n",
    "        break\n",
    "    else:\n",
    "        N = int(input(\"enter a valid positive natural number\"))\n",
    "while m < N+1:\n",
    "    add = add + m*m\n",
    "    m = m+1\n",
    "    if (add >= N):\n",
    "        break\n",
    "print(\"ii) Using while loop: The smallest n such that the sum of squares is atleast\",N,\"is\",m-1)"
   ]
  },
  {
   "cell_type": "code",
   "execution_count": null,
   "id": "c9db248c-b0b7-4e2e-addb-e121b307fa0c",
   "metadata": {},
   "outputs": [],
   "source": [
    "#Question 9\n",
    "#a) Program to print all the divisors of a given number\n",
    "n = int(input(\"Enter the value of n:\\n\"))\n",
    "m = 1\n",
    "while True:\n",
    "    if (n > 0):\n",
    "        break\n",
    "    else:\n",
    "        n = int(input(\"enter a valid positive natural number\"))\n",
    "while m < n+1:\n",
    "    if n%m == 0:\n",
    "        print(m,\"is a divisor of\",n)\n",
    "    m=m+1\n",
    "\n",
    "\n",
    "#b) Program to print the prime factors of a number\n",
    "p = int(input(\"Enter the value of p:\\n\"))\n",
    "if p <= 0:\n",
    "    print(\"Please enter a positive integer.\")\n",
    "\n",
    "else:\n",
    "    r = p\n",
    "    factors = []\n",
    "\n",
    "    while r % 2 == 0:\n",
    "        factors.append(2)\n",
    "        r //= 2\n",
    "\n",
    "    \n",
    "    i = 3\n",
    "    while i * i <= r:\n",
    "        while r % i == 0:\n",
    "            factors.append(i)\n",
    "            r //= i\n",
    "        i += 2\n",
    "\n",
    "\n",
    "    if r > 2:\n",
    "        factors.append(r)\n",
    "\n",
    "    print(f\"The prime factors of {p} are: {factors}\")\n"
   ]
  },
  {
   "cell_type": "code",
   "execution_count": null,
   "id": "620246bb-7367-4e7f-9a04-fb7cf1733f47",
   "metadata": {},
   "outputs": [],
   "source": [
    "#Question 10\n",
    "#Program to print multiplication table of a number\n",
    "\n",
    "n = int(input(\"Enter the number you want to find the multiplication of:\\n\"))\n",
    "N = int(input(\"Enter the number you want to find the multiplication up to:\\n\"))\n",
    "while True:\n",
    "    if n>=0 and n <= 9:\n",
    "        break\n",
    "    else:\n",
    "     n=int(input(\"input a an integer between 0 and 9:\\n\"))  \n",
    "for i in range(N+1):\n",
    "        prod = i*n\n",
    "        print(i,\"X\",n,\"=\",prod)\n",
    "        i = i+1\n"
   ]
  },
  {
   "cell_type": "code",
   "execution_count": 9,
   "id": "dc4046ca-fb77-4557-8e82-ec34da984bfe",
   "metadata": {},
   "outputs": [
    {
     "name": "stdout",
     "output_type": "stream",
     "text": [
      "0 is a  multiple of either 3 or 7 or 11 \n",
      "3 is a  multiple of either 3 or 7 or 11 \n",
      "6 is a  multiple of either 3 or 7 or 11 \n",
      "7 is a  multiple of either 3 or 7 or 11 \n",
      "9 is a  multiple of either 3 or 7 or 11 \n",
      "11 is a  multiple of either 3 or 7 or 11 \n",
      "12 is a  multiple of either 3 or 7 or 11 \n",
      "14 is a  multiple of either 3 or 7 or 11 \n",
      "15 is a  multiple of either 3 or 7 or 11 \n",
      "18 is a  multiple of either 3 or 7 or 11 \n",
      "21 is a  multiple of either 3 or 7 or 11 \n",
      "22 is a  multiple of either 3 or 7 or 11 \n",
      "24 is a  multiple of either 3 or 7 or 11 \n",
      "27 is a  multiple of either 3 or 7 or 11 \n",
      "28 is a  multiple of either 3 or 7 or 11 \n",
      "30 is a  multiple of either 3 or 7 or 11 \n",
      "33 is a  multiple of either 3 or 7 or 11 \n",
      "35 is a  multiple of either 3 or 7 or 11 \n",
      "36 is a  multiple of either 3 or 7 or 11 \n",
      "39 is a  multiple of either 3 or 7 or 11 \n"
     ]
    }
   ],
   "source": [
    "#Question 11\n",
    "# Program to print multiples of 3 or 7 or 11 between 0 to 41\n",
    "for num in range(0, 41):\n",
    "    if num % 3 == 0 or num % 7 == 0 or num % 11 == 0:\n",
    "        print(num,\"is a  multiple of either 3 or 7 or 11 \")\n",
    "\n",
    "\n"
   ]
  },
  {
   "cell_type": "code",
   "execution_count": 17,
   "id": "3ff8cb5f-0e1e-4815-b985-77d83367d515",
   "metadata": {},
   "outputs": [
    {
     "name": "stdin",
     "output_type": "stream",
     "text": [
      "enter any number you want to find the floor of:\n",
      " -1.212382\n"
     ]
    },
    {
     "name": "stdout",
     "output_type": "stream",
     "text": [
      "The floor of -1.212382 is -2\n"
     ]
    }
   ],
   "source": [
    "#Question 12\n",
    "#Program to find floor of any number\n",
    "import math \n",
    "x = float(input(\"enter any number you want to find the floor of:\\n\"))\n",
    "int_x = math.floor(x)\n",
    "print(\"The floor of\",x,\"is\",int_x)"
   ]
  },
  {
   "cell_type": "code",
   "execution_count": 25,
   "id": "0dfe8c53-360a-46fc-86cb-b7328780e96f",
   "metadata": {},
   "outputs": [
    {
     "name": "stdin",
     "output_type": "stream",
     "text": [
      "Enter the x-coordinate of the point:  0\n",
      "Enter the y-coordinate of the point (or type 'q' to quit):  0\n"
     ]
    },
    {
     "name": "stdout",
     "output_type": "stream",
     "text": [
      "The point is at the origin.\n"
     ]
    },
    {
     "name": "stdin",
     "output_type": "stream",
     "text": [
      "Do you want to quit? (y/n):  n\n",
      "Enter the x-coordinate of the point:  1\n",
      "Enter the y-coordinate of the point (or type 'q' to quit):  0\n"
     ]
    },
    {
     "name": "stdout",
     "output_type": "stream",
     "text": [
      "The point lies on the x-axis.\n"
     ]
    },
    {
     "name": "stdin",
     "output_type": "stream",
     "text": [
      "Do you want to quit? (y/n):  n\n",
      "Enter the x-coordinate of the point:  0\n",
      "Enter the y-coordinate of the point (or type 'q' to quit):  1\n"
     ]
    },
    {
     "name": "stdout",
     "output_type": "stream",
     "text": [
      "The point lies on the y-axis.\n"
     ]
    },
    {
     "name": "stdin",
     "output_type": "stream",
     "text": [
      "Do you want to quit? (y/n):  n\n",
      "Enter the x-coordinate of the point:  2\n",
      "Enter the y-coordinate of the point (or type 'q' to quit):  3\n"
     ]
    },
    {
     "name": "stdout",
     "output_type": "stream",
     "text": [
      "The point is in the 1st quadrant.\n"
     ]
    },
    {
     "name": "stdin",
     "output_type": "stream",
     "text": [
      "Do you want to quit? (y/n):  n\n",
      "Enter the x-coordinate of the point:  -1\n",
      "Enter the y-coordinate of the point (or type 'q' to quit):  13\n"
     ]
    },
    {
     "name": "stdout",
     "output_type": "stream",
     "text": [
      "The point is in the 2nd quadrant.\n"
     ]
    },
    {
     "name": "stdin",
     "output_type": "stream",
     "text": [
      "Do you want to quit? (y/n):  n\n",
      "Enter the x-coordinate of the point:  -15\n",
      "Enter the y-coordinate of the point (or type 'q' to quit):  -21\n"
     ]
    },
    {
     "name": "stdout",
     "output_type": "stream",
     "text": [
      "The point is in the 3rd quadrant.\n"
     ]
    },
    {
     "name": "stdin",
     "output_type": "stream",
     "text": [
      "Do you want to quit? (y/n):  n\n",
      "Enter the x-coordinate of the point:  76\n",
      "Enter the y-coordinate of the point (or type 'q' to quit):  -100\n"
     ]
    },
    {
     "name": "stdout",
     "output_type": "stream",
     "text": [
      "The point is in the 4th quadrant.\n"
     ]
    },
    {
     "name": "stdin",
     "output_type": "stream",
     "text": [
      "Do you want to quit? (y/n):  y\n"
     ]
    }
   ],
   "source": [
    "#Question 13\n",
    "#Program to find in which quadrant a point in a plane lies in\n",
    "while True:\n",
    "    x = float(input(\"Enter the x-coordinate of the point: \"))\n",
    "    y = float(input(\"Enter the y-coordinate of the point (or type 'q' to quit): \"))\n",
    "\n",
    "    if x == 0 and y == 0:\n",
    "        print(\"The point is at the origin.\")\n",
    "    elif x == 0:\n",
    "        print(\"The point lies on the y-axis.\")\n",
    "    elif y == 0:\n",
    "        print(\"The point lies on the x-axis.\")\n",
    "    elif x > 0 and y > 0:\n",
    "        print(\"The point is in the 1st quadrant.\")\n",
    "    elif x < 0 and y > 0:\n",
    "        print(\"The point is in the 2nd quadrant.\")\n",
    "    elif x < 0 and y < 0:\n",
    "        print(\"The point is in the 3rd quadrant.\")\n",
    "    elif x > 0 and y < 0:\n",
    "        print(\"The point is in the 4th quadrant.\")\n",
    "    \n",
    "    # Nexr we ask the user whether they want to quit\n",
    "    quit_input = input(\"Do you want to quit? (y/n): \").lower()\n",
    "    if quit_input == 'y':\n",
    "        break\n"
   ]
  },
  {
   "cell_type": "code",
   "execution_count": 27,
   "id": "4be44a8b-4b53-4812-baec-52d955a6ae17",
   "metadata": {},
   "outputs": [
    {
     "name": "stdin",
     "output_type": "stream",
     "text": [
      "Enter an integer number between 0 and 9:  6\n",
      "Enter an integer number between 0 and 255:  125\n"
     ]
    },
    {
     "name": "stdout",
     "output_type": "stream",
     "text": [
      "Multiples of 6 between 0 and 125 are:\n",
      "0 6 12 18 24 30 36 42 48 54 60 66 72 78 84 90 96 102 108 114 120 \n",
      "\n"
     ]
    },
    {
     "name": "stdin",
     "output_type": "stream",
     "text": [
      "Do you want to continue? (y/n):  y\n",
      "Enter an integer number between 0 and 9:  17\n"
     ]
    },
    {
     "name": "stdout",
     "output_type": "stream",
     "text": [
      "Please enter a number between 0 and 9.\n"
     ]
    },
    {
     "name": "stdin",
     "output_type": "stream",
     "text": [
      "Enter an integer number between 0 and 9:  255\n"
     ]
    },
    {
     "name": "stdout",
     "output_type": "stream",
     "text": [
      "Please enter a number between 0 and 9.\n"
     ]
    },
    {
     "name": "stdin",
     "output_type": "stream",
     "text": [
      "Enter an integer number between 0 and 9:  7\n",
      "Enter an integer number between 0 and 255:  255\n"
     ]
    },
    {
     "name": "stdout",
     "output_type": "stream",
     "text": [
      "Multiples of 7 between 0 and 255 are:\n",
      "0 7 14 21 28 35 42 49 56 63 70 77 84 91 98 105 112 119 126 133 140 147 154 161 168 175 182 189 196 203 210 217 224 231 238 245 252 \n",
      "\n"
     ]
    },
    {
     "name": "stdin",
     "output_type": "stream",
     "text": [
      "Do you want to continue? (y/n):  y\n",
      "Enter an integer number between 0 and 9:  3\n",
      "Enter an integer number between 0 and 255:  127\n"
     ]
    },
    {
     "name": "stdout",
     "output_type": "stream",
     "text": [
      "Multiples of 3 between 0 and 127 are:\n",
      "0 3 6 9 12 15 18 21 24 27 30 33 36 39 42 45 48 51 54 57 60 63 66 69 72 75 78 81 84 87 90 93 96 99 102 105 108 111 114 117 120 123 126 \n",
      "\n"
     ]
    },
    {
     "name": "stdin",
     "output_type": "stream",
     "text": [
      "Do you want to continue? (y/n):  n\n"
     ]
    },
    {
     "name": "stdout",
     "output_type": "stream",
     "text": [
      "Program finished.\n"
     ]
    }
   ],
   "source": [
    "#Question 14\n",
    "\n",
    "while True:\n",
    "    # Ask the user for the first number x in the range [0..9]\n",
    "    while True:\n",
    "        x = int(input(\"Enter an integer number between 0 and 9: \"))\n",
    "        if 0 <= x < 10:\n",
    "            break\n",
    "        else:\n",
    "            print(\"Please enter a number between 0 and 9.\")\n",
    "\n",
    "    # Ask the user for the second number max in the range [0..255]\n",
    "    while True:\n",
    "        max = int(input(\"Enter an integer number between 0 and 255: \"))\n",
    "        if 0 <= max < 256:\n",
    "            break\n",
    "        else:\n",
    "            print(\"Please enter a number between 0 and 255.\")\n",
    "\n",
    "    print(f\"Multiples of {x} between 0 and {max} are:\")\n",
    "    for num in range(0, max + 1):\n",
    "        if num % x == 0:\n",
    "            print(num, end=\" \")\n",
    "    print(\"\\n\")\n",
    "\n",
    "    # Finally we ask the user if they want to continue\n",
    "    continue_input = input(\"Do you want to continue? (y/n): \").lower()\n",
    "    if continue_input == 'n':\n",
    "        print(\"Program finished.\")\n",
    "        break\n"
   ]
  }
 ],
 "metadata": {
  "kernelspec": {
   "display_name": "Python 3 (ipykernel)",
   "language": "python",
   "name": "python3"
  },
  "language_info": {
   "codemirror_mode": {
    "name": "ipython",
    "version": 3
   },
   "file_extension": ".py",
   "mimetype": "text/x-python",
   "name": "python",
   "nbconvert_exporter": "python",
   "pygments_lexer": "ipython3",
   "version": "3.12.4"
  }
 },
 "nbformat": 4,
 "nbformat_minor": 5
}
