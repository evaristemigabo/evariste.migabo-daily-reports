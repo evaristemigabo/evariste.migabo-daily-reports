{
 "cells": [
  {
   "cell_type": "code",
   "execution_count": 1,
   "id": "8c9ccc93-e543-4d57-9617-b87fec7c660a",
   "metadata": {},
   "outputs": [
    {
     "name": "stdin",
     "output_type": "stream",
     "text": [
      "Enter the first number 123\n",
      "Enter the second number 13455\n"
     ]
    },
    {
     "name": "stdout",
     "output_type": "stream",
     "text": [
      "13455.0 is the maximum number\n"
     ]
    }
   ],
   "source": [
    "#Task 1\n",
    "#Program to print maximum of two numbers\n",
    "def find_max(x,y):\n",
    "    if x > y:\n",
    "        print(x,\"is the maximum number\")\n",
    "    elif y > x:\n",
    "        print(y,\"is the maximum number\")\n",
    "    else:\n",
    "        print(\"The two number are equal\")\n",
    "num1 = float(input(\"Enter the first number\"))\n",
    "num2 = float(input(\"Enter the second number\"))\n",
    "find_max(num1,num2)\n",
    "\n",
    "        "
   ]
  },
  {
   "cell_type": "code",
   "execution_count": 5,
   "id": "2e535d1f-2206-457b-ba1c-4fa6088aac06",
   "metadata": {},
   "outputs": [
    {
     "name": "stdin",
     "output_type": "stream",
     "text": [
      "Enter the first number 124\n",
      "Enter the second number 13335\n",
      "Enter the third number 75733\n"
     ]
    },
    {
     "name": "stdout",
     "output_type": "stream",
     "text": [
      "75733.0 is the maximum number\n"
     ]
    }
   ],
   "source": [
    "#Task 2\n",
    "#Program to print maximum of three numbers\n",
    "def find_max_of_three(x,y,z):\n",
    "    if x > y and x > z:\n",
    "        print(x,\"is the maximum number\")\n",
    "    elif y > x and y > z:\n",
    "        print(y,\"is the maximum number\")\n",
    "    elif z > x and z > y:\n",
    "        print(z,\"is the maximum number\")\n",
    "    else:\n",
    "        print(\"The three numbers are equal\")\n",
    "num1 = float(input(\"Enter the first number\"))\n",
    "num2 = float(input(\"Enter the second number\"))\n",
    "num3 = float(input(\"Enter the third number\"))\n",
    "find_max_of_three(num1,num2,num3)"
   ]
  },
  {
   "cell_type": "code",
   "execution_count": null,
   "id": "4a908d19-9783-43e9-a97a-aa61e4513c01",
   "metadata": {},
   "outputs": [],
   "source": [
    "#Task 3\n",
    "#Program to find the length of a list without using len()\n",
    "def find_len():\n",
    "    count = 0\n",
    "    for char in string:\n",
    "        count += 1\n",
    "print(\"Length of the string:\", count)\n",
    "    "
   ]
  },
  {
   "cell_type": "code",
   "execution_count": 21,
   "id": "ae544199-732d-4654-9ffe-04a743eb8dd3",
   "metadata": {},
   "outputs": [
    {
     "name": "stdin",
     "output_type": "stream",
     "text": [
      "Enter any character string Evariste\n"
     ]
    },
    {
     "name": "stdout",
     "output_type": "stream",
     "text": [
      "the character E is a vowel\n",
      "the character a is a vowel\n",
      "the character i is a vowel\n",
      "the character e is a vowel\n"
     ]
    }
   ],
   "source": [
    "#Task 4\n",
    "#Program to check if a given character is a vowel.\n",
    "def check_vowel(in_str):\n",
    "    vowels = [\"a\",\"e\",\"i\",\"o\",\"u\",\"A\",\"E\",\"I\",\"O\",\"U\"]\n",
    "    n = len(in_str)\n",
    "    for i in range(n):\n",
    "        if in_str[i] in vowels:\n",
    "           print(\"the character\",in_str[i],\"is a vowel\")\n",
    "my_str = input(\"Enter any character string\")\n",
    "check_vowel(my_str)"
   ]
  },
  {
   "cell_type": "code",
   "execution_count": 58,
   "id": "efa2bd43-19c2-44cf-8143-bf5705e19d5c",
   "metadata": {},
   "outputs": [
    {
     "name": "stdin",
     "output_type": "stream",
     "text": [
      "Input any string you want to convert evariste\n"
     ]
    },
    {
     "data": {
      "text/plain": [
       "'evovarorisostote'"
      ]
     },
     "execution_count": 58,
     "metadata": {},
     "output_type": "execute_result"
    }
   ],
   "source": [
    "#Task 5\n",
    "#Program to convert a string \n",
    "def encode(text):\n",
    "    vowels = \"aeiouAEIOU\"\n",
    "    encoded = \"\"\n",
    "    for char in text:\n",
    "        if char.isalpha() and char not in vowels:\n",
    "            encoded = encoded + char + 'o' + char\n",
    "        else:\n",
    "            encoded = encoded + char\n",
    "\n",
    "    return encoded\n",
    "my_str = input(\"Input any string you want to convert\")\n",
    "encode(my_str)\n"
   ]
  },
  {
   "cell_type": "code",
   "execution_count": 85,
   "id": "34a154db-16c0-4129-b3b3-c8b5fc169431",
   "metadata": {},
   "outputs": [
    {
     "name": "stdout",
     "output_type": "stream",
     "text": [
      "Sum of all the elements in your list is: 58\n",
      "Product of all the elements in your list is: 510510\n"
     ]
    }
   ],
   "source": [
    "#Task 6\n",
    "#Function to print the sum and product of element in a list\n",
    "def sum_elements(lst):\n",
    "    \"\"\" This function will return the sum of all elements in the list.\"\"\"\n",
    "    total = 0\n",
    "    for i in lst:\n",
    "        total = total + i\n",
    "    return total\n",
    "\n",
    "def product_elements(lst):\n",
    "    \"\"\"This function will return the product of all elements in the list.\"\"\"\n",
    "    product = 1\n",
    "    for j in lst:\n",
    "        product = product * j\n",
    "    return product\n",
    "\n",
    "numbers = [2,3,5,7,11,13,17]\n",
    "print(\"Sum of all the elements in your list is:\", sum_elements(numbers))        \n",
    "print(\"Product of all the elements in your list is:\", product_elements(numbers))  \n"
   ]
  },
  {
   "cell_type": "code",
   "execution_count": 87,
   "id": "243bf219-21aa-4705-a26a-27067caeacc5",
   "metadata": {},
   "outputs": [
    {
     "name": "stdin",
     "output_type": "stream",
     "text": [
      "Enter any string you want to reverse:\n",
      " Migabo Kisimbanyi Evariste\n"
     ]
    },
    {
     "data": {
      "text/plain": [
       "'etsiravE iynabmisiK obagiM'"
      ]
     },
     "execution_count": 87,
     "metadata": {},
     "output_type": "execute_result"
    }
   ],
   "source": [
    "#Task 7\n",
    "#Function to find reverse of a string \n",
    "def reverse_string(s):\n",
    "    \"\"\" This function returns the reversed version of any given string.\"\"\"\n",
    "    return s[::-1]\n",
    "user_str = input(\"Enter any string you want to reverse:\\n\")\n",
    "reverse_string(user_str) "
   ]
  },
  {
   "cell_type": "code",
   "execution_count": 97,
   "id": "67c57b7c-fc98-43f9-9ec6-31157cdc29e6",
   "metadata": {},
   "outputs": [
    {
     "name": "stdin",
     "output_type": "stream",
     "text": [
      "Enter any string you want to reverse:\n",
      " eva\n"
     ]
    },
    {
     "data": {
      "text/plain": [
       "False"
      ]
     },
     "execution_count": 97,
     "metadata": {},
     "output_type": "execute_result"
    }
   ],
   "source": [
    "#task 8\n",
    "#Program to check if a given string is a Palindrome\n",
    "def check_palindrome(s):\n",
    "    \"\"\"This function checks if a given string is a palindorme and returns True if it is, and false otherwise.\"\"\"\n",
    "    #removing the spaces and converting to lowercase\n",
    "    normalized_str = s.replace(\" \", \"\").lower()\n",
    "    return normalized_str == normalized_str[::-1]\n",
    "    \n",
    "user_input_str = input(\"Enter any string you want to reverse:\\n\")\n",
    "check_palindrome(user_input_str)"
   ]
  },
  {
   "cell_type": "code",
   "execution_count": 54,
   "id": "21092663-b0b5-498c-a519-594a5507df79",
   "metadata": {},
   "outputs": [
    {
     "name": "stdout",
     "output_type": "stream",
     "text": [
      "3 is in your list\n",
      "None\n",
      "6 is not in your list\n",
      "None\n"
     ]
    }
   ],
   "source": [
    "#Task 9\n",
    "#Function to check if an element belongs to a list\n",
    "def check_membership(element, lst):\n",
    "    if element in lst:\n",
    "        print(element,\"is in your list\")\n",
    "    else:\n",
    "        print(element,\"is not in your list\")\n",
    "my_list = [1, 2, 3, 4, 5]\n",
    "print(check_membership(3, my_list))  \n",
    "print(check_membership(6, my_list)) \n"
   ]
  },
  {
   "cell_type": "code",
   "execution_count": 50,
   "id": "c391bb34-c450-43ba-9d3a-27f48dad291d",
   "metadata": {},
   "outputs": [
    {
     "name": "stdin",
     "output_type": "stream",
     "text": [
      "Enter any list separated by commmas: [1,2,3,4,5,]\n",
      "Enter any list separated by commmas: [2,4,6,8,10]\n"
     ]
    },
    {
     "name": "stdout",
     "output_type": "stream",
     "text": [
      "4 is also an element of ['[2', '4', '6', '8', '10]']\n",
      "4 is also an element of ['[1', '2', '3', '4', '5', ']']\n"
     ]
    }
   ],
   "source": [
    "#Task 10\n",
    "#Function to check if two list share the same elements\n",
    "def check_overlap(list_el1,list_el2):\n",
    "    n = len(list_el1)\n",
    "    m = len(list_el2)\n",
    "    for i in range(n):\n",
    "        if list_el1[i] in list_el2:\n",
    "            print(list_el1[i],\"is also an element of\",list_el2)\n",
    "    for j in range(m):\n",
    "        if list_el2[j] in list_el1:\n",
    "            print(list_el2[j],\"is also an element of\",list_el1)\n",
    "in_list1 = input(\"Enter any list separated by commmas:\")\n",
    "in_list2 =  input(\"Enter any list separated by commmas:\")\n",
    "in_con_list1 = [lin.strip() for lin in in_list1.split(\",\")]\n",
    "in_con_list2 = [lin.strip() for lin in in_list2.split(\",\")]\n",
    "\n",
    "check_overlap(in_con_list1,in_con_list2)\n",
    "    \n",
    "    "
   ]
  }
 ],
 "metadata": {
  "kernelspec": {
   "display_name": "Python 3 (ipykernel)",
   "language": "python",
   "name": "python3"
  },
  "language_info": {
   "codemirror_mode": {
    "name": "ipython",
    "version": 3
   },
   "file_extension": ".py",
   "mimetype": "text/x-python",
   "name": "python",
   "nbconvert_exporter": "python",
   "pygments_lexer": "ipython3",
   "version": "3.12.4"
  }
 },
 "nbformat": 4,
 "nbformat_minor": 5
}
